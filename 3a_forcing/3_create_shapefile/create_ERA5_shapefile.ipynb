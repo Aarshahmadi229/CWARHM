{
 "cells": [
  {
   "cell_type": "markdown",
   "metadata": {},
   "source": [
    "# Make ERA5 shapefile\n",
    "The shapefile for the forcing data needs to represent the regular latitude/longitude grid of the ERA5 data. We need this for later intersection with the catchment shape(s) so we can create appropriately weighted forcing for each model element. \n",
    "\n",
    "Note that ERA5 data should be thought of as being provided for a specific point in space. These points are the lat/lon coordinates found as netcdf dimensions in the data files. Here, these coordinates will act as center points for a grid. Each point is assumed to be representative for an equal-sized area around itself. See: https://confluence.ecmwf.int/display/CKB/ERA5%3A+What+is+the+spatial+reference"
   ]
  },
  {
   "cell_type": "code",
   "execution_count": 1,
   "metadata": {},
   "outputs": [],
   "source": [
    "# modules\n",
    "import os\n",
    "import shapefile # listed for install as \"PyShp\" library\n",
    "import numpy as np\n",
    "import netCDF4 as nc4\n",
    "import geopandas as gpd\n",
    "from pathlib import Path\n",
    "from shutil import copyfile\n",
    "from datetime import datetime\n",
    "import matplotlib.pyplot as plt"
   ]
  },
  {
   "cell_type": "markdown",
   "metadata": {},
   "source": [
    "#### Control file handling"
   ]
  },
  {
   "cell_type": "code",
   "execution_count": 2,
   "metadata": {},
   "outputs": [],
   "source": [
    "# Easy access to control file folder\n",
    "controlFolder = Path('../../0_controlFiles')"
   ]
  },
  {
   "cell_type": "code",
   "execution_count": 3,
   "metadata": {},
   "outputs": [],
   "source": [
    "# Store the name of the 'active' file in a variable\n",
    "controlFile = 'control_active.txt'"
   ]
  },
  {
   "cell_type": "code",
   "execution_count": 4,
   "metadata": {},
   "outputs": [],
   "source": [
    "# Function to extract a given setting from the control file\n",
    "def read_from_control( file, setting ):\n",
    "    \n",
    "    # Open 'control_active.txt' and ...\n",
    "    for line in open(file):\n",
    "        \n",
    "        # ... find the line with the requested setting\n",
    "        if setting in line:\n",
    "            break\n",
    "    \n",
    "    # Extract the setting's value\n",
    "    substring = line.split('|',1)[1]      # Remove the setting's name (split into 2 based on '|', keep only 2nd part)\n",
    "    substring = substring.split('#',1)[0] # Remove comments, does nothing if no '#' is found\n",
    "    substring = substring.strip()         # Remove leading and trailing whitespace, tabs, newlines\n",
    "    \n",
    "    # Return this value    \n",
    "    return substring"
   ]
  },
  {
   "cell_type": "code",
   "execution_count": 5,
   "metadata": {},
   "outputs": [],
   "source": [
    "# Function to specify a default path\n",
    "def make_default_path(suffix):\n",
    "    \n",
    "    # Get the root path\n",
    "    rootPath = Path( read_from_control(controlFolder/controlFile,'root_path') )\n",
    "    \n",
    "    # Get the domain folder\n",
    "    domainName = read_from_control(controlFolder/controlFile,'domain_name')\n",
    "    domainFolder = 'domain_' + domainName\n",
    "    \n",
    "    # Specify the forcing path\n",
    "    defaultPath = rootPath / domainFolder / suffix\n",
    "    \n",
    "    return defaultPath"
   ]
  },
  {
   "cell_type": "markdown",
   "metadata": {},
   "source": [
    "#### Find location of merged forcing data"
   ]
  },
  {
   "cell_type": "code",
   "execution_count": 6,
   "metadata": {},
   "outputs": [],
   "source": [
    "# Find the path where the merged forcing is\n",
    "mergePath = read_from_control(controlFolder/controlFile,'forcing_merged_path')"
   ]
  },
  {
   "cell_type": "code",
   "execution_count": 7,
   "metadata": {},
   "outputs": [],
   "source": [
    "# Specify the default path if required\n",
    "if mergePath == 'default':\n",
    "    mergePath = make_default_path('forcing/2_merged_data')\n",
    "else: \n",
    "    forcingPath = Path(forcingPath) # ensure Path() object "
   ]
  },
  {
   "cell_type": "markdown",
   "metadata": {},
   "source": [
    "#### Find spatial extent of domain"
   ]
  },
  {
   "cell_type": "code",
   "execution_count": 8,
   "metadata": {},
   "outputs": [],
   "source": [
    "# Find which locations to download\n",
    "coordinates = read_from_control(controlFolder/controlFile,'forcing_raw_space')"
   ]
  },
  {
   "cell_type": "code",
   "execution_count": 9,
   "metadata": {},
   "outputs": [],
   "source": [
    "# Extract values\n",
    "coordinates = coordinates.split('/') # lat_max, lon_min, lat_min, lon_max"
   ]
  },
  {
   "cell_type": "code",
   "execution_count": 10,
   "metadata": {},
   "outputs": [],
   "source": [
    "# Re-organize values in the order the rest of the code expects: lat_min, lat_max, lon_min, lon_max\n",
    "bounding_box = np.array([coordinates[2], coordinates[0],  coordinates[1],  coordinates[3] ])"
   ]
  },
  {
   "cell_type": "markdown",
   "metadata": {},
   "source": [
    "#### Find where the shapefile needs to go"
   ]
  },
  {
   "cell_type": "code",
   "execution_count": 11,
   "metadata": {},
   "outputs": [],
   "source": [
    "# Find the path where the new shapefile needs to go\n",
    "shapePath = read_from_control(controlFolder/controlFile,'forcing_shape_path')"
   ]
  },
  {
   "cell_type": "code",
   "execution_count": 12,
   "metadata": {},
   "outputs": [],
   "source": [
    "# Specify the default path if required\n",
    "if shapePath == 'default':\n",
    "    shapePath = make_default_path('shapefiles/forcing')\n",
    "else: \n",
    "    forcingPath = Path(forcingPath) # ensure Path() object "
   ]
  },
  {
   "cell_type": "code",
   "execution_count": 13,
   "metadata": {},
   "outputs": [],
   "source": [
    "# Find name of the new shapefil\n",
    "shapeName = read_from_control(controlFolder/controlFile,'forcing_shape_name')"
   ]
  },
  {
   "cell_type": "markdown",
   "metadata": {},
   "source": [
    "#### Read the source file to find the grid spacing"
   ]
  },
  {
   "cell_type": "code",
   "execution_count": 14,
   "metadata": {},
   "outputs": [],
   "source": [
    "# Find an .nc file in the forcing path\n",
    "for file in os.listdir(mergePath):\n",
    "    if file.endswith('.nc'):\n",
    "        forcing_file = file\n",
    "        break"
   ]
  },
  {
   "cell_type": "code",
   "execution_count": 15,
   "metadata": {},
   "outputs": [],
   "source": [
    "# Set the dimension variable names\n",
    "source_name_lat = \"latitude\"\n",
    "source_name_lon = \"longitude\""
   ]
  },
  {
   "cell_type": "code",
   "execution_count": 16,
   "metadata": {},
   "outputs": [],
   "source": [
    "# Open the file and get the dimensions\n",
    "with nc4.Dataset(mergePath / forcing_file) as src:\n",
    "    lat = src.variables[source_name_lat][:]\n",
    "    lon = src.variables[source_name_lon][:]"
   ]
  },
  {
   "cell_type": "code",
   "execution_count": 17,
   "metadata": {},
   "outputs": [],
   "source": [
    "# Find the spacing\n",
    "half_dlat = abs(lat[1] - lat[0])/2\n",
    "half_dlon = abs(lon[1] - lon[0])/2"
   ]
  },
  {
   "cell_type": "markdown",
   "metadata": {},
   "source": [
    "#### Create the new shape"
   ]
  },
  {
   "cell_type": "code",
   "execution_count": 18,
   "metadata": {},
   "outputs": [],
   "source": [
    "# create a new shapefile object\n",
    "with shapefile.Writer(shapePath / shapeName) as w:\n",
    "    w.autoBalance = 1 # turn on function that keeps file stable if number of shapes and records don't line up\n",
    "    w.field(\"ID\",'N') # create (N)umerical attribute fields, integer\n",
    "    w.field(\"lat\",'F',decimal=4) # float with 4 decimals\n",
    "    w.field(\"lon\",'F',decimal=4)\n",
    "    ID = 0 # start ID counter of empty\n",
    "    \n",
    "    for i in range(0,len(lon)):\n",
    "        for j in range(0,len(lat)):\n",
    "            ID += 1\n",
    "            center_lon = lon[i]\n",
    "            center_lat = lat[j]\n",
    "            vertices = []\n",
    "            parts = []\n",
    "            vertices.append([center_lon-half_dlon, center_lat])\n",
    "            vertices.append([center_lon-half_dlon, center_lat+half_dlat])\n",
    "            vertices.append([center_lon          , center_lat+half_dlat])\n",
    "            vertices.append([center_lon+half_dlon, center_lat+half_dlat])\n",
    "            vertices.append([center_lon+half_dlon, center_lat])\n",
    "            vertices.append([center_lon+half_dlon, center_lat-half_dlat])\n",
    "            vertices.append([center_lon          , center_lat-half_dlat])\n",
    "            vertices.append([center_lon-half_dlon, center_lat-half_dlat])\n",
    "            vertices.append([center_lon-half_dlon, center_lat])\n",
    "            parts.append(vertices)\n",
    "            w.poly(parts)\n",
    "            w.record(ID, center_lat, center_lon)"
   ]
  },
  {
   "cell_type": "code",
   "execution_count": 19,
   "metadata": {},
   "outputs": [
    {
     "data": {
      "image/png": "[encoded data removed]",
      "text/plain": [
       "<Figure size 720x720 with 1 Axes>"
      ]
     },
     "metadata": {
      "needs_background": "light"
     },
     "output_type": "display_data"
    }
   ],
   "source": [
    "# plot the shapefile to see if this matches the bounds\n",
    "shp = gpd.read_file( shapePath / shapeName)\n",
    "shp.plot(figsize=(10,10), facecolor='none', edgecolor='b');\n",
    "plt.title('Grid should cover center points {}'.format(coordinates));"
   ]
  },
  {
   "cell_type": "markdown",
   "metadata": {},
   "source": [
    "#### Code provenance\n",
    "Generates a basic log file in the domain folder and copies the control file and itself there."
   ]
  },
  {
   "cell_type": "code",
   "execution_count": 60,
   "metadata": {},
   "outputs": [],
   "source": [
    "# Create a log folder\n",
    "logFolder = '_workflow_log'\n",
    "Path( shapePath / logFolder ).mkdir(parents=True, exist_ok=True)"
   ]
  },
  {
   "cell_type": "code",
   "execution_count": 67,
   "metadata": {},
   "outputs": [],
   "source": [
    "# Copy this script\n",
    "thisFile = 'create_ERA5_shapefile.ipynb'\n",
    "copyfile(thisFile, shapePath / logFolder / thisFile);"
   ]
  },
  {
   "cell_type": "code",
   "execution_count": 64,
   "metadata": {},
   "outputs": [],
   "source": [
    "# Get current date and time\n",
    "now = datetime.now()"
   ]
  },
  {
   "cell_type": "code",
   "execution_count": 65,
   "metadata": {},
   "outputs": [],
   "source": [
    "# Create a log file \n",
    "logFile = now.strftime('%Y%m%d') + '_pressure_level_log.txt'\n",
    "with open( shapePath / logFolder / logFile, 'w') as file:\n",
    "    \n",
    "    lines = ['Log generated by ' + thisFile + ' on ' + now.strftime('%Y/%m/%d %H:%M:%S') + '\\n',\n",
    "             'Created ERA5 regular latitude/longitude grid.']\n",
    "    for txt in lines:\n",
    "        file.write(txt) "
   ]
  },
  {
   "cell_type": "code",
   "execution_count": null,
   "metadata": {},
   "outputs": [],
   "source": []
  }
 ],
 "metadata": {
  "kernelspec": {
   "display_name": "Python [conda env:geospatialTools]",
   "language": "python",
   "name": "conda-env-geospatialTools-py"
  },
  "language_info": {
   "codemirror_mode": {
    "name": "ipython",
    "version": 3
   },
   "file_extension": ".py",
   "mimetype": "text/x-python",
   "name": "python",
   "nbconvert_exporter": "python",
   "pygments_lexer": "ipython3",
   "version": "3.7.7"
  }
 },
 "nbformat": 4,
 "nbformat_minor": 4
}
