{
 "cells": [
  {
   "cell_type": "markdown",
   "metadata": {},
   "source": [
    "# Create control file\n",
    "Populates a text file with the required inputs for a mizuRoute run."
   ]
  },
  {
   "cell_type": "code",
   "execution_count": 1,
   "metadata": {},
   "outputs": [],
   "source": [
    "# modules\n",
    "import os\n",
    "from pathlib import Path\n",
    "from shutil import copyfile\n",
    "from datetime import datetime"
   ]
  },
  {
   "cell_type": "markdown",
   "metadata": {},
   "source": [
    "#### Control file handling"
   ]
  },
  {
   "cell_type": "code",
   "execution_count": 2,
   "metadata": {},
   "outputs": [],
   "source": [
    "# Easy access to control file folder\n",
    "controlFolder = Path('../../../0_controlFiles')"
   ]
  },
  {
   "cell_type": "code",
   "execution_count": 3,
   "metadata": {},
   "outputs": [],
   "source": [
    "# Store the name of the 'active' file in a variable\n",
    "controlFile = 'control_active.txt'"
   ]
  },
  {
   "cell_type": "code",
   "execution_count": 4,
   "metadata": {},
   "outputs": [],
   "source": [
    "# Function to extract a given setting from the control file\n",
    "def read_from_control( file, setting ):\n",
    "    \n",
    "    # Open 'control_active.txt' and ...\n",
    "    with open(file) as contents:\n",
    "        for line in contents:\n",
    "            \n",
    "            # ... find the line with the requested setting\n",
    "            if setting in line:\n",
    "                break\n",
    "    \n",
    "    # Extract the setting's value\n",
    "    substring = line.split('|',1)[1]      # Remove the setting's name (split into 2 based on '|', keep only 2nd part)\n",
    "    substring = substring.split('#',1)[0] # Remove comments, does nothing if no '#' is found\n",
    "    substring = substring.strip()         # Remove leading and trailing whitespace, tabs, newlines\n",
    "       \n",
    "    # Return this value    \n",
    "    return substring"
   ]
  },
  {
   "cell_type": "code",
   "execution_count": 5,
   "metadata": {},
   "outputs": [],
   "source": [
    "# Function to specify a default path\n",
    "def make_default_path(suffix):\n",
    "    \n",
    "    # Get the root path\n",
    "    rootPath = Path( read_from_control(controlFolder/controlFile,'root_path') )\n",
    "    \n",
    "    # Get the domain folder\n",
    "    domainName = read_from_control(controlFolder/controlFile,'domain_name')\n",
    "    domainFolder = 'domain_' + domainName\n",
    "    \n",
    "    # Specify the forcing path\n",
    "    defaultPath = rootPath / domainFolder / suffix\n",
    "    \n",
    "    return defaultPath"
   ]
  },
  {
   "cell_type": "markdown",
   "metadata": {},
   "source": [
    "#### Find where the control file needs to go"
   ]
  },
  {
   "cell_type": "code",
   "execution_count": 6,
   "metadata": {},
   "outputs": [],
   "source": [
    "# Forcing file list path & name\n",
    "control_path = read_from_control(controlFolder/controlFile,'settings_mizu_path')\n",
    "control_name = read_from_control(controlFolder/controlFile,'settings_mizu_control_file')"
   ]
  },
  {
   "cell_type": "code",
   "execution_count": 7,
   "metadata": {},
   "outputs": [],
   "source": [
    "# Specify default path if needed\n",
    "if control_path == 'default':\n",
    "    control_path = make_default_path('settings/mizuRoute') # outputs a Path()\n",
    "else:\n",
    "    control_path = Path(control_path) # make sure a user-specified path is a Path()"
   ]
  },
  {
   "cell_type": "code",
   "execution_count": 8,
   "metadata": {},
   "outputs": [],
   "source": [
    "# Make the folder if it doesn't exist\n",
    "control_path.mkdir(parents=True, exist_ok=True)"
   ]
  },
  {
   "cell_type": "markdown",
   "metadata": {},
   "source": [
    "#### Read the required information from control_active.txt"
   ]
  },
  {
   "cell_type": "code",
   "execution_count": 15,
   "metadata": {},
   "outputs": [],
   "source": [
    "# Get the experiment ID\n",
    "experiment_id = read_from_control(controlFolder/controlFile,'experiment_id')"
   ]
  },
  {
   "cell_type": "code",
   "execution_count": 11,
   "metadata": {},
   "outputs": [],
   "source": [
    "# Paths - settings folder\n",
    "path_to_settings = read_from_control(controlFolder/controlFile,'settings_mizu_path')\n",
    "\n",
    "# Specify default path if needed\n",
    "if path_to_settings == 'default':\n",
    "    path_to_settings = make_default_path('settings/mizuRoute') # outputs a Path()\n",
    "else:\n",
    "    path_to_settings = Path(path_to_settings) # make sure a user-specified path is a Path()"
   ]
  },
  {
   "cell_type": "code",
   "execution_count": 16,
   "metadata": {},
   "outputs": [],
   "source": [
    "# Paths - SUMMA output/mizuRoute input folder\n",
    "path_to_input = read_from_control(controlFolder/controlFile,'experiment_output_summa')\n",
    "\n",
    "# Specify default path if needed\n",
    "if path_to_input == 'default':  \n",
    "    path_to_input = make_default_path('simulations/' + experiment_id + '/SUMMA') # outputs a Path()\n",
    "else:\n",
    "    path_to_input = Path(path_to_input) # make sure a user-specified path is a Path()"
   ]
  },
  {
   "cell_type": "code",
   "execution_count": 18,
   "metadata": {},
   "outputs": [],
   "source": [
    "# Paths - mizuRoute output folder\n",
    "path_to_output = read_from_control(controlFolder/controlFile,'experiment_output_mizuRoute')\n",
    "\n",
    "# Specify default path if needed\n",
    "if path_to_output == 'default':  \n",
    "    path_to_output = make_default_path('simulations/' + experiment_id + '/mizuRoute') # outputs a Path()\n",
    "else:\n",
    "    path_to_output = Path(path_to_output) # make sure a user-specified path is a Path()\n",
    "    \n",
    "# Make the folder if it doesn't exist\n",
    "path_to_output.mkdir(parents=True, exist_ok=True)"
   ]
  },
  {
   "cell_type": "code",
   "execution_count": 24,
   "metadata": {},
   "outputs": [],
   "source": [
    "# Simulation times\n",
    "sim_start = read_from_control(controlFolder/controlFile,'experiment_time_start')\n",
    "sim_end   = read_from_control(controlFolder/controlFile,'experiment_time_end')\n",
    "\n",
    "# Define default times if needed\n",
    "if sim_start == 'default':\n",
    "    raw_time = read_from_control(controlFolder/controlFile,'forcing_raw_time') # downloaded forcing (years)\n",
    "    year_start,_ = raw_time.split(',') # split into separate variables\n",
    "    sim_start = year_start + '-01-01 00:00' # construct the filemanager field\n",
    "\n",
    "if sim_end == 'default':\n",
    "    raw_time = read_from_control(controlFolder/controlFile,'forcing_raw_time') # downloaded forcing (years)\n",
    "    _,year_end = raw_time.split(',') # split into separate variables\n",
    "    sim_end   = year_end   + '-12-31 23:00' # construct the filemanager field"
   ]
  },
  {
   "cell_type": "code",
   "execution_count": 34,
   "metadata": {},
   "outputs": [],
   "source": [
    "# Topology settings\n",
    "topology_nc  = read_from_control(controlFolder/controlFile,'settings_mizu_topology')\n",
    "\n",
    "# Variables below are hard-coded in 1_create_network_topology.py to be consistent with mizuRoute docs\n",
    "topology_seg = 'seg' \n",
    "topology_hru = 'hru' \n",
    "topology_outlet = -9999"
   ]
  },
  {
   "cell_type": "code",
   "execution_count": 78,
   "metadata": {},
   "outputs": [],
   "source": [
    "# Remap settings\n",
    "remap_flag = read_from_control(controlFolder/controlFile,'river_basin_needs_remap')\n",
    "if remap_flag.lower() == 'yes':\n",
    "    do_remap          = 'T'\n",
    "    remap_nc          = read_from_control(controlFolder/controlFile,'settings_mizu_remap')\n",
    "    \n",
    "    # Variables below are hard-coded in 1_remap_summa_catchments_to_routing.py to be consistent with mizuRoute docs\n",
    "    remap_var_rn_hru  = 'RN_hruId' \n",
    "    remap_var_weight  = 'weight' \n",
    "    remap_var_hm_gru  = 'HM_hruId'\n",
    "    remap_var_overlap = 'nOverlaps'\n",
    "    remap_dim_hm_gru  = 'hru'\n",
    "    remap_dim_data    = 'data'\n",
    "else:\n",
    "    do_remap = 'F'"
   ]
  },
  {
   "cell_type": "code",
   "execution_count": 89,
   "metadata": {},
   "outputs": [],
   "source": [
    "# SUMMA output settings\n",
    "routing_nc  = experiment_id + '_timestep.nc'\n",
    "routing_var_flow = read_from_control(controlFolder/controlFile,'settings_mizu_routing_var')\n",
    "routing_var_flow_units = read_from_control(controlFolder/controlFile,'settings_mizu_routing_units')\n",
    "routing_dt = read_from_control(controlFolder/controlFile, 'settings_mizu_routing_dt')\n",
    "\n",
    "# Variables below are hard-coded in SUMMA\n",
    "routing_dim_time = 'time'  \n",
    "routing_var_time = 'time'  \n",
    "routing_dim_id  = 'gru' \n",
    "routing_var_id  = 'gruId'"
   ]
  },
  {
   "cell_type": "code",
   "execution_count": 59,
   "metadata": {},
   "outputs": [],
   "source": [
    "# Misc settings\n",
    "output_freq = read_from_control(controlFolder/controlFile,'settings_mizu_output_freq')\n",
    "do_basin_route = read_from_control(controlFolder/controlFile,'settings_mizu_within_basin')"
   ]
  },
  {
   "cell_type": "markdown",
   "metadata": {},
   "source": [
    "#### Make the file"
   ]
  },
  {
   "cell_type": "code",
   "execution_count": 90,
   "metadata": {},
   "outputs": [],
   "source": [
    "# Create the file list\n",
    "with open(control_path / control_name, 'w') as cf:\n",
    "    \n",
    "    # Header\n",
    "    cf.write(\"! mizuRoute control file generated by SUMMA public workflow scripts \\n\")\n",
    "    \n",
    "    # Folders\n",
    "    cf.write(\"\\n! --- DEFINE DIRECTORIES \\n\")\n",
    "    cf.write(\"<ancil_dir>             {}/    ! Folder that contains ancillary data (river network, remapping netCDF) \\n\".format(path_to_settings))\n",
    "    cf.write(\"<input_dir>             {}/    ! Folder that contains runoff data from SUMMA \\n\".format(path_to_input))\n",
    "    cf.write(\"<output_dir>            {}/    ! Folder that will contain mizuRoute simulations \\n\".format(path_to_output))\n",
    "    \n",
    "    # Base parameters\n",
    "    cf.write(\"\\n! --- NAMELIST FILENAME \\n\")\n",
    "    cf.write(\"<param_nml>             param.nml.default    ! Spatially constant parameter namelist (should be stored in <ancil_dir>) \\n\")\n",
    "    \n",
    "    # Simulation settings\n",
    "    cf.write(\"\\n! --- DEFINE SIMULATION CONTROLS \\n\")\n",
    "    cf.write(\"<case_name>             {}    ! Simulation case name. This used for output netCDF, and restart netCDF name \\n\".format(experiment_id))\n",
    "    cf.write(\"<sim_start>             {}    ! Time of simulation start. format: yyyy-mm-dd or yyyy-mm-dd hh:mm:ss \\n\".format(sim_start))\n",
    "    cf.write(\"<sim_end>               {}    ! Time of simulation end. format: yyyy-mm-dd or yyyy-mm-dd hh:mm:ss \\n\".format(sim_end))\n",
    "    cf.write(\"<newFileFrequency>      {}    ! Frequency for new output files (single, day, month, or annual) \\n\".format(output_freq))\n",
    "    \n",
    "    # Topology file\n",
    "    cf.write(\"\\n! --- DEFINE TOPOLOGY FILE AND DIMENSIONS \\n\")\n",
    "    cf.write(\"<fname_ntopOld>         {}    ! Name of input netCDF for River Network \\n\".format(topology_nc))\n",
    "    cf.write(\"<dname_sseg>            {}    ! Dimension name for reach in river network netCDF \\n\".format(topology_seg))\n",
    "    cf.write(\"<dname_nhru>            {}    ! Dimension name for RN_HRU in river network netCDF \\n\".format(topology_hru))\n",
    "    cf.write(\"<seg_outlet>            {}    ! Downstream segment ID that indicates the outlet \\n\".format(topology_outlet))\n",
    "    \n",
    "    # SUMMA output\n",
    "    cf.write(\"\\n! --- DEFINE RUNOFF FILE \\n\")\n",
    "    cf.write(\"<fname_qsim>            {}    ! netCDF name for HM_HRU runoff \\n\".format(routing_nc))\n",
    "    cf.write(\"<vname_qsim>            {}    ! Variable name for HM_HRU runoff \\n\".format(routing_var_flow))\n",
    "    cf.write(\"<units_qsim>            {}    ! Units of input runoff. e.g., mm/s \\n\".format(routing_var_flow_units)) \n",
    "    cf.write(\"<dt_qsim>               {}    ! Time interval of input runoff in seconds, e.g., 86400 sec for daily step \\n\".format(routing_dt)) \n",
    "    cf.write(\"<dname_time>            {}    ! Dimension name for time \\n\".format(routing_dim_time))\n",
    "    cf.write(\"<vname_time>            {}    ! Variable name for time \\n\".format(routing_var_time))\n",
    "    cf.write(\"<dname_hruid>           {}    ! Dimension name for HM_HRU ID \\n\".format(routing_dim_id)) \n",
    "    cf.write(\"<vname_hruid>           {}    ! Variable name for HM_HRU ID \\n\".format(routing_var_id))\n",
    "    \n",
    "    # Remapping\n",
    "    cf.write(\"\\n! --- DEFINE RUNOFF MAPPING FILE \\n\")\n",
    "    cf.write(\"<is_remap>              {}    ! Logical to indicate runoff needs to be remapped to RN_HRU. T or F \\n\".format(do_remap))\n",
    "    \n",
    "    if remap_flag.lower() == 'yes':\n",
    "        cf.write(\"<fname_remap>           {}    ! netCDF name of runoff remapping \\n\".format(remap_nc))\n",
    "        cf.write(\"<vname_hruid_in_remap>  {}    ! Variable name for RN_HRUs \\n\".format(remap_var_rn_hru))\n",
    "        cf.write(\"<vname_weight>          {}    ! Variable name for areal weights of overlapping HM_HRUs \\n\".format(remap_var_weight))\n",
    "        cf.write(\"<vname_qhruid>          {}    ! Variable name for HM_HRU ID \\n\".format(remap_var_hm_gru))\n",
    "        cf.write(\"<vname_num_qhru>        {}    ! Variable name for a numbers of overlapping HM_HRUs with RN_HRUs \\n\".format(remap_var_overlap))\n",
    "        cf.write(\"<dname_hru_remap>       {}    ! Dimension name for HM_HRU \\n\".format(remap_dim_hm_gru))\n",
    "        cf.write(\"<dname_data_remap>      {}    ! Dimension name for data \\n\".format(remap_dim_data))\n",
    "    \n",
    "    # Misc settings\n",
    "    cf.write(\"\\n! --- MISCELLANEOUS \\n\")\n",
    "    cf.write(\"<doesBasinRoute>   {}    ! Hillslope routing options. 0 -> no (already routed by SUMMA), 1 -> use IRF \\n\".format(do_basin_route)) # only for routing option 2"
   ]
  },
  {
   "cell_type": "markdown",
   "metadata": {},
   "source": [
    "#### Code provenance\n",
    "Generates a basic log file in the domain folder and copies the control file and itself there."
   ]
  },
  {
   "cell_type": "code",
   "execution_count": 82,
   "metadata": {},
   "outputs": [],
   "source": [
    "# Set the log path and file name\n",
    "logPath = control_path\n",
    "log_suffix = '_make_control_file.txt'"
   ]
  },
  {
   "cell_type": "code",
   "execution_count": 83,
   "metadata": {},
   "outputs": [],
   "source": [
    "# Create a log folder\n",
    "logFolder = '_workflow_log'\n",
    "Path( logPath / logFolder ).mkdir(parents=True, exist_ok=True)"
   ]
  },
  {
   "cell_type": "code",
   "execution_count": 84,
   "metadata": {},
   "outputs": [],
   "source": [
    "# Copy this script\n",
    "thisFile = '1_create_control_file.ipynb'\n",
    "copyfile(thisFile, logPath / logFolder / thisFile);"
   ]
  },
  {
   "cell_type": "code",
   "execution_count": 85,
   "metadata": {},
   "outputs": [],
   "source": [
    "# Get current date and time\n",
    "now = datetime.now()"
   ]
  },
  {
   "cell_type": "code",
   "execution_count": 86,
   "metadata": {},
   "outputs": [],
   "source": [
    "# Create a log file \n",
    "logFile = now.strftime('%Y%m%d') + log_suffix\n",
    "with open( logPath / logFolder / logFile, 'w') as file:\n",
    "    \n",
    "    lines = ['Log generated by ' + thisFile + ' on ' + now.strftime('%Y/%m/%d %H:%M:%S') + '\\n',\n",
    "             'Generated control file.']\n",
    "    for txt in lines:\n",
    "        file.write(txt) "
   ]
  },
  {
   "cell_type": "code",
   "execution_count": null,
   "metadata": {},
   "outputs": [],
   "source": []
  }
 ],
 "metadata": {
  "kernelspec": {
   "display_name": "Python [conda env:geospatialTools]",
   "language": "python",
   "name": "conda-env-geospatialTools-py"
  },
  "language_info": {
   "codemirror_mode": {
    "name": "ipython",
    "version": 3
   },
   "file_extension": ".py",
   "mimetype": "text/x-python",
   "name": "python",
   "nbconvert_exporter": "python",
   "pygments_lexer": "ipython3",
   "version": "3.7.7"
  }
 },
 "nbformat": 4,
 "nbformat_minor": 4
}
