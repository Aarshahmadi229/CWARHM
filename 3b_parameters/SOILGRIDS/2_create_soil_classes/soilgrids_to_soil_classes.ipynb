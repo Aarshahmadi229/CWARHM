{
 "cells": [
  {
   "cell_type": "markdown",
   "metadata": {},
   "source": [
    "# SOILGRIDS to soil classes\n",
    "We have downloaded sand/silt/clay content at the 7 soil depths provided by SOILGRIDS v2 (data available, paper in pre; SOILGRIDS v1: Hengl et al., 2017). We'll use these fractions to determine the USDA soil class per depth (Benham et al., 2009).\n",
    "\n",
    "Sand, silt and clay values are in units `[g/kg]`. \n",
    "\n",
    "Assumes files are name `clay_[depth]_[var]`, `sand_[depth]_[var]` and `silt_[detph]_[var]`, where `[var]` is the download variable and `[depth]` is one of `0-5cm`, `5-15cm`, `15-30cm`, `30-60cm`, `60-100cm` or `100-200cm`.\n",
    "\n",
    "#### References\n",
    "Hengl T, Mendes de Jesus J, Heuvelink GBM, Ruiperez Gonzalez M, Kilibarda M, Blagotic A, et al. (2017) SoilGrids250m: Global gridded soil information based on machine learning. PLoS ONE 12(2): e0169748. https://doi.org/10.1371/journal.pone.0169748\n",
    "\n",
    "Benham, E., Ahrens, R. J., & Nettleton, W. D. (2009). Clarification of Soil Texture Class Boundaries. United States Department of Agriculture. https://www.nrcs.usda.gov/wps/portal/nrcs/detail/ks/soils/?cid=nrcs142p2_033171"
   ]
  },
  {
   "cell_type": "code",
   "execution_count": 1,
   "metadata": {},
   "outputs": [],
   "source": [
    "# Modules\n",
    "import os\n",
    "import gdal\n",
    "import numpy as np\n",
    "from pathlib import Path\n",
    "from shutil import copyfile\n",
    "from datetime import datetime"
   ]
  },
  {
   "cell_type": "markdown",
   "metadata": {},
   "source": [
    "#### Control file handling"
   ]
  },
  {
   "cell_type": "code",
   "execution_count": 2,
   "metadata": {},
   "outputs": [],
   "source": [
    "# Easy access to control file folder\n",
    "controlFolder = Path('../../../0_controlFiles')"
   ]
  },
  {
   "cell_type": "code",
   "execution_count": 3,
   "metadata": {},
   "outputs": [],
   "source": [
    "# Store the name of the 'active' file in a variable\n",
    "controlFile = 'control_active.txt'"
   ]
  },
  {
   "cell_type": "code",
   "execution_count": 4,
   "metadata": {},
   "outputs": [],
   "source": [
    "# Function to extract a given setting from the control file\n",
    "def read_from_control( file, setting ):\n",
    "    \n",
    "    # Open 'control_active.txt' and ...\n",
    "    with open(file) as contents:\n",
    "        for line in contents:\n",
    "            \n",
    "            # ... find the line with the requested setting\n",
    "            if setting in line:\n",
    "                break\n",
    "    \n",
    "    # Extract the setting's value\n",
    "    substring = line.split('|',1)[1]      # Remove the setting's name (split into 2 based on '|', keep only 2nd part)\n",
    "    substring = substring.split('#',1)[0] # Remove comments, does nothing if no '#' is found\n",
    "    substring = substring.strip()         # Remove leading and trailing whitespace, tabs, newlines\n",
    "       \n",
    "    # Return this value    \n",
    "    return substring"
   ]
  },
  {
   "cell_type": "code",
   "execution_count": 5,
   "metadata": {},
   "outputs": [],
   "source": [
    "# Function to specify a default path\n",
    "def make_default_path(suffix):\n",
    "    \n",
    "    # Get the root path\n",
    "    rootPath = Path( read_from_control(controlFolder/controlFile,'root_path') )\n",
    "    \n",
    "    # Get the domain folder\n",
    "    domainName = read_from_control(controlFolder/controlFile,'domain_name')\n",
    "    domainFolder = 'domain_' + domainName\n",
    "    \n",
    "    # Specify the forcing path\n",
    "    defaultPath = rootPath / domainFolder / suffix\n",
    "    \n",
    "    return defaultPath"
   ]
  },
  {
   "cell_type": "markdown",
   "metadata": {},
   "source": [
    "#### Find source and destination locations"
   ]
  },
  {
   "cell_type": "code",
   "execution_count": 6,
   "metadata": {},
   "outputs": [],
   "source": [
    "# Find where the downloads are\n",
    "rawSoilPath = read_from_control(controlFolder/controlFile,'parameter_soil_raw_path')"
   ]
  },
  {
   "cell_type": "code",
   "execution_count": 7,
   "metadata": {},
   "outputs": [],
   "source": [
    "# Find where the soil classes need to go\n",
    "soilClassPath = read_from_control(controlFolder/controlFile,'parameter_soil_class_path')"
   ]
  },
  {
   "cell_type": "code",
   "execution_count": 8,
   "metadata": {},
   "outputs": [],
   "source": [
    "# Specify the default paths if required \n",
    "if rawSoilPath == 'default':\n",
    "    rawSoilPath = make_default_path('parameters/soilclass/1_SOILGRIDS_raw_data') # outputs a Path()\n",
    "else:\n",
    "    rawSoilPath = Path(rawSoilPath) # make sure a user-specified path is a Path()"
   ]
  },
  {
   "cell_type": "code",
   "execution_count": 9,
   "metadata": {},
   "outputs": [],
   "source": [
    "# Specify the default paths if required \n",
    "if soilClassPath == 'default':\n",
    "    soilClassPath = make_default_path('parameters/soilclass/2_usgs_soil_classes') # outputs a Path()\n",
    "else:\n",
    "    soilClassPath = Path(soilClassPath) # make sure a user-specified path is a Path()"
   ]
  },
  {
   "cell_type": "code",
   "execution_count": 10,
   "metadata": {},
   "outputs": [],
   "source": [
    "# Make the folder if it doesn't exist\n",
    "soilClassPath.mkdir(parents=True, exist_ok=True)"
   ]
  },
  {
   "cell_type": "markdown",
   "metadata": {},
   "source": [
    "#### Find source files"
   ]
  },
  {
   "cell_type": "code",
   "execution_count": 11,
   "metadata": {},
   "outputs": [],
   "source": [
    "# Find where the downloads are\n",
    "soil_variable = read_from_control(controlFolder/controlFile,'parameter_soil_value')"
   ]
  },
  {
   "cell_type": "code",
   "execution_count": 12,
   "metadata": {},
   "outputs": [],
   "source": [
    "# Specify the other parts of the file names\n",
    "file_clay = 'clay_'\n",
    "file_sand = 'sand_'\n",
    "file_silt = 'silt_'\n",
    "file_end  = '_' + soil_variable + '.tif'\n",
    "depths    = ['0-5cm', '5-15cm', '15-30cm', '30-60cm', '60-100cm', '100-200cm']\n",
    "file_des  = 'usda_soilclass_' # prefix of the new files"
   ]
  },
  {
   "cell_type": "markdown",
   "metadata": {},
   "source": [
    "#### Function definitions"
   ]
  },
  {
   "cell_type": "code",
   "execution_count": 13,
   "metadata": {},
   "outputs": [],
   "source": [
    "# Opens geotif file, extracts data from a single band and computes corner & center coordinates in lat/lon\n",
    "def open_soilgrids_geotif(file):\n",
    "    \n",
    "    print('Opening ' + str(file))\n",
    "    ds = gdal.Open(str(file)) # open the file; enforce string for gdal\n",
    "    band = ds.GetRasterBand(1) # get the data band; we know there is only a single band per SOILGRIDS file\n",
    "    data = band.ReadAsArray() # convert to numpy array for further manipulation\n",
    "    width = ds.RasterXSize # pixel width\n",
    "    height = ds.RasterYSize # pixel height\n",
    "    gt = ds.GetGeoTransform() # geolocation\n",
    "    coords = np.zeros((5,2)) # coordinates of bounding box\n",
    "    coords[0,0] = coords[1,0] = gt[0]\n",
    "    coords[0,1] = coords[2,1] = gt[3]\n",
    "    coords[2,0] = coords[3,0] = gt[0] + width*gt[1]\n",
    "    coords[1,1] = coords[3,1] = gt[3] + height*gt[5]\n",
    "    coords[4,0] = gt[0] + (width/2)*gt[1]\n",
    "    coords[4,1] = gt[3] + (height/2)*gt[5]\n",
    "    \n",
    "    return data, coords"
   ]
  },
  {
   "cell_type": "code",
   "execution_count": 14,
   "metadata": {},
   "outputs": [],
   "source": [
    "# Takes sand/silt/clay percentage and returns USDA soil class\n",
    "def find_usda_soilclass(sand,silt,clay):\n",
    "    \n",
    "    # Based on Benham et al., 2009 and matching the following soil class table:\n",
    "    # SUMMA-ROSETTA-STAS-RUC soil parameter table\n",
    "    # 1  'CLAY' \n",
    "    # 2  'CLAY LOAM'\n",
    "    # 3  'LOAM' \n",
    "    # 4  'LOAMY SAND'\n",
    "    # 5  'SAND'\n",
    "    # 6  'SANDY CLAY'\n",
    "    # 7  'SANDY CLAY LOAM'\n",
    "    # 8  'SANDY LOAM'\n",
    "    # 9  'SILT'\n",
    "    # 10 'SILTY CLAY'\n",
    "    # 11 'SILTY CLAY LOAM'\n",
    "    # 12 'SILT LOAM'\n",
    "\n",
    "    # Initialize a results array\n",
    "    soilclass = np.zeros(sand.shape)\n",
    "    \n",
    "    # Legend\n",
    "    soiltype = ['clay','clay loam','loam','loamy sand','sand','sandy clay','sandy clay loam','sandy loam','silt','silty clay','silty clay loam','silt loam']\n",
    "    \n",
    "    # Classify\n",
    "    soilclass[(clay >= 40) & (sand <= 45) & (silt < 40)] = 1\n",
    "    soilclass[(clay >= 27) & (clay < 40) & (sand > 20) & (sand <= 45)] = 2\n",
    "    soilclass[(clay >= 7) & (clay < 27) & (silt >= 28) & (silt < 50) & (sand < 52)] = 3\n",
    "    soilclass[((silt + 1.5 * clay) >= 15) & ((silt + 2* clay) < 30)] = 4\n",
    "    soilclass[((silt + 1.5 * clay) < 15)] = 5\n",
    "    soilclass[(clay >= 35 )& (sand > 45)] = 6\n",
    "    soilclass[(clay >= 20) & (clay < 35) & (silt < 28) & (sand > 45)] = 7\n",
    "    soilclass[((clay >= 7) & (clay < 20) & (sand > 52) & ((silt+2*clay) >= 30)) | ((clay < 7) & (silt < 50) & ((silt+2*clay >= 30)))] = 8\n",
    "    soilclass[(silt >= 80) & (clay < 12)] = 9\n",
    "    soilclass[(clay >= 40) & (silt >= 40)] = 10\n",
    "    soilclass[(clay >= 27) & (clay < 40) & (sand <= 20)] = 11\n",
    "    soilclass[((silt >= 50) & (clay >= 12) & (clay < 27)) | ((silt >= 50) & (silt < 80) & (clay < 12))] = 12\n",
    "\n",
    "    # Ensure that locations that have all zeroes do not get assigned a class\n",
    "    soilclass[(sand == 0) & (silt == 0) & (clay == 0)] = 0 \n",
    "    \n",
    "    return soilclass, soiltype"
   ]
  },
  {
   "cell_type": "code",
   "execution_count": 15,
   "metadata": {},
   "outputs": [],
   "source": [
    "# Creates a new geotif file from a template file and data that needs to be saved\n",
    "def create_new_tif(template_file, data, new_file_name):\n",
    "    \n",
    "    # Code based on shared code by S. Gharari (22-Apr-2020)\n",
    "    \n",
    "    # get stuff from the template\n",
    "    ds = gdal.Open(str(template_file)) # open the file\n",
    "    \n",
    "    # get shape from the data\n",
    "    [cols, rows] = data.shape # get the shape of the geotiff\n",
    "    \n",
    "    # create the new file\n",
    "    driver = gdal.GetDriverByName(\"GTiff\") # specify driver\n",
    "    outdata = driver.Create(str(new_file_name), rows, cols, 1, gdal.GDT_UInt16, options = [ 'COMPRESS=DEFLATE' ]) # open file\n",
    "    outdata.SetGeoTransform(ds.GetGeoTransform())# sets same geotransform as input\n",
    "    outdata.SetProjection(ds.GetProjection())# sets same projection as input\n",
    "    outdata.GetRasterBand(1).WriteArray(data) # pass the manipulated values \n",
    "    outdata.GetRasterBand(1).SetNoDataValue(-1)# if you want these values transparent (0) will be nan I guess\n",
    "    outdata.FlushCache() # saves to disk!\n",
    "    \n",
    "    return "
   ]
  },
  {
   "cell_type": "markdown",
   "metadata": {},
   "source": [
    "#### Find the soil classes"
   ]
  },
  {
   "cell_type": "code",
   "execution_count": 17,
   "metadata": {},
   "outputs": [
    {
     "name": "stdout",
     "output_type": "stream",
     "text": [
      "Opening C:\\Globus endpoint\\summaWorkflow_data\\domain_BowAtBanff\\parameters\\soilclass\\1_SOILGRIDS_raw_data\\sand_0-5cm_mean.tif\n",
      "Opening C:\\Globus endpoint\\summaWorkflow_data\\domain_BowAtBanff\\parameters\\soilclass\\1_SOILGRIDS_raw_data\\silt_0-5cm_mean.tif\n",
      "Opening C:\\Globus endpoint\\summaWorkflow_data\\domain_BowAtBanff\\parameters\\soilclass\\1_SOILGRIDS_raw_data\\clay_0-5cm_mean.tif\n",
      "Opening C:\\Globus endpoint\\summaWorkflow_data\\domain_BowAtBanff\\parameters\\soilclass\\1_SOILGRIDS_raw_data\\sand_5-15cm_mean.tif\n",
      "Opening C:\\Globus endpoint\\summaWorkflow_data\\domain_BowAtBanff\\parameters\\soilclass\\1_SOILGRIDS_raw_data\\silt_5-15cm_mean.tif\n",
      "Opening C:\\Globus endpoint\\summaWorkflow_data\\domain_BowAtBanff\\parameters\\soilclass\\1_SOILGRIDS_raw_data\\clay_5-15cm_mean.tif\n",
      "Opening C:\\Globus endpoint\\summaWorkflow_data\\domain_BowAtBanff\\parameters\\soilclass\\1_SOILGRIDS_raw_data\\sand_15-30cm_mean.tif\n",
      "Opening C:\\Globus endpoint\\summaWorkflow_data\\domain_BowAtBanff\\parameters\\soilclass\\1_SOILGRIDS_raw_data\\silt_15-30cm_mean.tif\n",
      "Opening C:\\Globus endpoint\\summaWorkflow_data\\domain_BowAtBanff\\parameters\\soilclass\\1_SOILGRIDS_raw_data\\clay_15-30cm_mean.tif\n",
      "Opening C:\\Globus endpoint\\summaWorkflow_data\\domain_BowAtBanff\\parameters\\soilclass\\1_SOILGRIDS_raw_data\\sand_30-60cm_mean.tif\n",
      "Opening C:\\Globus endpoint\\summaWorkflow_data\\domain_BowAtBanff\\parameters\\soilclass\\1_SOILGRIDS_raw_data\\silt_30-60cm_mean.tif\n",
      "Opening C:\\Globus endpoint\\summaWorkflow_data\\domain_BowAtBanff\\parameters\\soilclass\\1_SOILGRIDS_raw_data\\clay_30-60cm_mean.tif\n",
      "Opening C:\\Globus endpoint\\summaWorkflow_data\\domain_BowAtBanff\\parameters\\soilclass\\1_SOILGRIDS_raw_data\\sand_60-100cm_mean.tif\n",
      "Opening C:\\Globus endpoint\\summaWorkflow_data\\domain_BowAtBanff\\parameters\\soilclass\\1_SOILGRIDS_raw_data\\silt_60-100cm_mean.tif\n",
      "Opening C:\\Globus endpoint\\summaWorkflow_data\\domain_BowAtBanff\\parameters\\soilclass\\1_SOILGRIDS_raw_data\\clay_60-100cm_mean.tif\n",
      "Opening C:\\Globus endpoint\\summaWorkflow_data\\domain_BowAtBanff\\parameters\\soilclass\\1_SOILGRIDS_raw_data\\sand_100-200cm_mean.tif\n",
      "Opening C:\\Globus endpoint\\summaWorkflow_data\\domain_BowAtBanff\\parameters\\soilclass\\1_SOILGRIDS_raw_data\\silt_100-200cm_mean.tif\n",
      "Opening C:\\Globus endpoint\\summaWorkflow_data\\domain_BowAtBanff\\parameters\\soilclass\\1_SOILGRIDS_raw_data\\clay_100-200cm_mean.tif\n"
     ]
    }
   ],
   "source": [
    "# Loop over the soil depths\n",
    "for depth in depths:\n",
    "    \n",
    "    # Explicitly create the path\n",
    "    clay_path = rawSoilPath / (file_clay + depth + file_end)\n",
    "    sand_path = rawSoilPath / (file_sand + depth + file_end)\n",
    "    silt_path = rawSoilPath / (file_silt + depth + file_end)\n",
    "    \n",
    "    # Get the geotif bands that contain sand/silt/clay and their coordinates\n",
    "    sand, sand_coord = open_soilgrids_geotif( sand_path )\n",
    "    silt, silt_coord = open_soilgrids_geotif( silt_path )\n",
    "    clay, clay_coord = open_soilgrids_geotif( clay_path )\n",
    "    \n",
    "    # Break if coordinates do not match\n",
    "    coords_all_match = np.logical_and( (clay_coord == sand_coord).all(), (clay_coord == silt_coord).all())\n",
    "    if not coords_all_match:\n",
    "        print('Coordinates do not match at soil level ' + sl + '. Aborting.')\n",
    "        \n",
    "    # Convert the [g/kg] values into [%]\n",
    "    sand = sand / 10\n",
    "    silt = silt / 10\n",
    "    clay = clay / 10\n",
    "    \n",
    "    # Compare sand/silt/clay % to USDA soil triangle and assign soil class\n",
    "    soilclass,_ = find_usda_soilclass(sand,silt,clay)\n",
    "    \n",
    "    # Save resulting soil class file as a new .tif, using an existing one as template\n",
    "    src = rawSoilPath / (file_clay + depth + file_end)\n",
    "    des = soilClassPath / (file_des + depth + file_end)\n",
    "    create_new_tif(src,soilclass,des)"
   ]
  },
  {
   "cell_type": "markdown",
   "metadata": {},
   "source": [
    "#### Code provenance\n",
    "Generates a basic log file in the domain folder and copies the control file and itself there."
   ]
  },
  {
   "cell_type": "code",
   "execution_count": 18,
   "metadata": {},
   "outputs": [],
   "source": [
    "# Set the log path and file name\n",
    "logPath = soilClassPath\n",
    "log_suffix = '_soilgrids_to_soilclass_log.txt'"
   ]
  },
  {
   "cell_type": "code",
   "execution_count": 19,
   "metadata": {},
   "outputs": [],
   "source": [
    "# Create a log folder\n",
    "logFolder = '_workflow_log'\n",
    "Path( logPath / logFolder ).mkdir(parents=True, exist_ok=True)"
   ]
  },
  {
   "cell_type": "code",
   "execution_count": 20,
   "metadata": {},
   "outputs": [],
   "source": [
    "# Copy this script\n",
    "thisFile = 'soilgrids_to_soil_classes.ipynb'\n",
    "copyfile(thisFile, logPath / logFolder / thisFile);"
   ]
  },
  {
   "cell_type": "code",
   "execution_count": 21,
   "metadata": {},
   "outputs": [],
   "source": [
    "# Get current date and time\n",
    "now = datetime.now()"
   ]
  },
  {
   "cell_type": "code",
   "execution_count": 22,
   "metadata": {},
   "outputs": [],
   "source": [
    "# Create a log file \n",
    "logFile = now.strftime('%Y%m%d') + log_suffix\n",
    "with open( logPath / logFolder / logFile, 'w') as file:\n",
    "    \n",
    "    lines = ['Log generated by ' + thisFile + ' on ' + now.strftime('%Y/%m/%d %H:%M:%S') + '\\n',\n",
    "             'Converted SOILGRIDS v2 data into soil classes (Benham et al., 2009)\\n',\n",
    "             'Benham, E., Ahrens, R. J., & Nettleton, W. D. (2009). Clarification of Soil Texture Class Boundaries. United States Department of Agriculture. https://www.nrcs.usda.gov/wps/portal/nrcs/detail/ks/soils/?cid=nrcs142p2_033171']\n",
    "    for txt in lines:\n",
    "        file.write(txt) "
   ]
  },
  {
   "cell_type": "code",
   "execution_count": null,
   "metadata": {},
   "outputs": [],
   "source": []
  }
 ],
 "metadata": {
  "kernelspec": {
   "display_name": "Python [conda env:geospatialTools]",
   "language": "python",
   "name": "conda-env-geospatialTools-py"
  },
  "language_info": {
   "codemirror_mode": {
    "name": "ipython",
    "version": 3
   },
   "file_extension": ".py",
   "mimetype": "text/x-python",
   "name": "python",
   "nbconvert_exporter": "python",
   "pygments_lexer": "ipython3",
   "version": "3.7.7"
  }
 },
 "nbformat": 4,
 "nbformat_minor": 4
}
