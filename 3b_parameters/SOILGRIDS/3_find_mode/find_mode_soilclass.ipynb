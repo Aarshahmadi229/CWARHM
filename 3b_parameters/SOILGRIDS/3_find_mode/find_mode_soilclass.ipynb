{
 "cells": [
  {
   "cell_type": "markdown",
   "metadata": {},
   "source": [
    "# Find mode soilclass"
   ]
  },
  {
   "cell_type": "code",
   "execution_count": 2,
   "metadata": {},
   "outputs": [],
   "source": [
    "import numpy as np\n",
    "from pathlib import Path\n",
    "import scipy.stats as sc\n",
    "from shutil import copyfile\n",
    "from datetime import datetime\n",
    "from osgeo import gdal, ogr, osr"
   ]
  },
  {
   "cell_type": "markdown",
   "metadata": {},
   "source": [
    "#### Control file handling"
   ]
  },
  {
   "cell_type": "code",
   "execution_count": 3,
   "metadata": {},
   "outputs": [],
   "source": [
    "# Easy access to control file folder\n",
    "controlFolder = Path('../../../0_controlFiles')"
   ]
  },
  {
   "cell_type": "code",
   "execution_count": 4,
   "metadata": {},
   "outputs": [],
   "source": [
    "# Store the name of the 'active' file in a variable\n",
    "controlFile = 'control_active.txt'"
   ]
  },
  {
   "cell_type": "code",
   "execution_count": 5,
   "metadata": {},
   "outputs": [],
   "source": [
    "# Function to extract a given setting from the control file\n",
    "def read_from_control( file, setting ):\n",
    "    \n",
    "    # Open 'control_active.txt' and ...\n",
    "    with open(file) as contents:\n",
    "        for line in contents:\n",
    "            \n",
    "            # ... find the line with the requested setting\n",
    "            if setting in line:\n",
    "                break\n",
    "    \n",
    "    # Extract the setting's value\n",
    "    substring = line.split('|',1)[1]      # Remove the setting's name (split into 2 based on '|', keep only 2nd part)\n",
    "    substring = substring.split('#',1)[0] # Remove comments, does nothing if no '#' is found\n",
    "    substring = substring.strip()         # Remove leading and trailing whitespace, tabs, newlines\n",
    "       \n",
    "    # Return this value    \n",
    "    return substring"
   ]
  },
  {
   "cell_type": "code",
   "execution_count": 6,
   "metadata": {},
   "outputs": [],
   "source": [
    "# Function to specify a default path\n",
    "def make_default_path(suffix):\n",
    "    \n",
    "    # Get the root path\n",
    "    rootPath = Path( read_from_control(controlFolder/controlFile,'root_path') )\n",
    "    \n",
    "    # Get the domain folder\n",
    "    domainName = read_from_control(controlFolder/controlFile,'domain_name')\n",
    "    domainFolder = 'domain_' + domainName\n",
    "    \n",
    "    # Specify the forcing path\n",
    "    defaultPath = rootPath / domainFolder / suffix\n",
    "    \n",
    "    return defaultPath"
   ]
  },
  {
   "cell_type": "markdown",
   "metadata": {},
   "source": [
    "#### Find source and destination locations"
   ]
  },
  {
   "cell_type": "code",
   "execution_count": 9,
   "metadata": {},
   "outputs": [],
   "source": [
    "# Find where the soil classes are\n",
    "soilClassPath = read_from_control(controlFolder/controlFile,'parameter_soil_class_path')"
   ]
  },
  {
   "cell_type": "code",
   "execution_count": 10,
   "metadata": {},
   "outputs": [],
   "source": [
    "# Specify the default paths if required \n",
    "if soilClassPath == 'default':\n",
    "    soilClassPath = make_default_path('parameters/soilclass/2_usgs_soil_classes') # outputs a Path()\n",
    "else:\n",
    "    soilClassPath = Path(soilClassPath) # make sure a user-specified path is a Path()"
   ]
  },
  {
   "cell_type": "code",
   "execution_count": 11,
   "metadata": {},
   "outputs": [],
   "source": [
    "# Find where the mode soil class needs to go\n",
    "modeSoilClassPath = read_from_control(controlFolder/controlFile,'parameter_soil_mode_path')"
   ]
  },
  {
   "cell_type": "code",
   "execution_count": 12,
   "metadata": {},
   "outputs": [],
   "source": [
    "# Specify the default paths if required \n",
    "if modeSoilClassPath == 'default':\n",
    "    modeSoilClassPath = make_default_path('parameters/soilclass/3_mode_soil_class') # outputs a Path()\n",
    "else:\n",
    "    modeSoilClassPath = Path(modeSoilClassPath) # make sure a user-specified path is a Path()"
   ]
  },
  {
   "cell_type": "code",
   "execution_count": 13,
   "metadata": {},
   "outputs": [],
   "source": [
    "# Make the folder if it doesn't exist\n",
    "modeSoilClassPath.mkdir(parents=True, exist_ok=True)"
   ]
  },
  {
   "cell_type": "code",
   "execution_count": 14,
   "metadata": {},
   "outputs": [],
   "source": [
    "# Destination file\n",
    "file_dest = read_from_control(controlFolder/controlFile,'parameter_soil_tif_name')"
   ]
  },
  {
   "cell_type": "markdown",
   "metadata": {},
   "source": [
    "#### Function definition"
   ]
  },
  {
   "cell_type": "code",
   "execution_count": 15,
   "metadata": {},
   "outputs": [],
   "source": [
    "# Opens geotif file, extracts data from a single band and computes corner & center coordinates in lat/lon\n",
    "def open_soilgrids_geotif(file):\n",
    "    \n",
    "    # Do the things\n",
    "    ds = gdal.Open(file) # open the file\n",
    "    band = ds.GetRasterBand(1) # get the data band; we know there is only a single band per SOILGRIDS file\n",
    "    data = band.ReadAsArray() # convert to numpy array for further manipulation\n",
    "    width = ds.RasterXSize # pixel width\n",
    "    height = ds.RasterYSize # pixel height\n",
    "    rasterSize = [width,height]\n",
    "    geoTransform = ds.GetGeoTransform() # geolocation\n",
    "    boundingBox = np.zeros((5,2)) # coordinates of bounding box\n",
    "    boundingBox[0,0] = boundingBox[1,0] = geoTransform[0]\n",
    "    boundingBox[0,1] = boundingBox[2,1] = geoTransform[3]\n",
    "    boundingBox[2,0] = boundingBox[3,0] = geoTransform[0] + width*geoTransform[1]\n",
    "    boundingBox[1,1] = boundingBox[3,1] = geoTransform[3] + height*geoTransform[5]\n",
    "    boundingBox[4,0] = geoTransform[0] + (width/2)*geoTransform[1]\n",
    "    boundingBox[4,1] = geoTransform[3] + (height/2)*geoTransform[5]\n",
    "    \n",
    "    return data, geoTransform, rasterSize, boundingBox"
   ]
  },
  {
   "cell_type": "code",
   "execution_count": 16,
   "metadata": {},
   "outputs": [],
   "source": [
    "# Writes data into a new geotif file\n",
    "# Source: https://gis.stackexchange.com/questions/199477/gdal-python-cut-geotiff-image/199565\n",
    "def write_geotif_sameDomain(src_file,des_file,des_data):\n",
    "    \n",
    "    # load the source file to get the appropriate attributes\n",
    "    src_ds = gdal.Open(src_file)\n",
    "    \n",
    "    # get the geotransform\n",
    "    des_transform = src_ds.GetGeoTransform()\n",
    "    \n",
    "    # get the data dimensions\n",
    "    ncols = des_data.shape[1]\n",
    "    nrows = des_data.shape[0]\n",
    "    \n",
    "    # make the file\n",
    "    driver = gdal.GetDriverByName(\"GTiff\")\n",
    "    dst_ds = driver.Create(des_file,ncols,nrows,1,gdal.GDT_Float32, options = [ 'COMPRESS=DEFLATE' ])\n",
    "    dst_ds.GetRasterBand(1).WriteArray( des_data ) \n",
    "    dst_ds.SetGeoTransform(des_transform)\n",
    "    wkt = src_ds.GetProjection()\n",
    "    srs = osr.SpatialReference()\n",
    "    srs.ImportFromWkt(wkt)\n",
    "    dst_ds.SetProjection( srs.ExportToWkt() )\n",
    "    \n",
    "    # close files\n",
    "    src_ds = None\n",
    "    des_ds = None\n",
    "\n",
    "    return"
   ]
  },
  {
   "cell_type": "markdown",
   "metadata": {},
   "source": [
    "#### Find the mode soil class"
   ]
  },
  {
   "cell_type": "code",
   "execution_count": 17,
   "metadata": {},
   "outputs": [],
   "source": [
    "# Find where the downloads are\n",
    "soil_variable = read_from_control(controlFolder/controlFile,'parameter_soil_value')"
   ]
  },
  {
   "cell_type": "code",
   "execution_count": 18,
   "metadata": {},
   "outputs": [],
   "source": [
    "# Source files\n",
    "file_base = 'usda_soilclass_'\n",
    "file_end = '_' + soil_variable + '.tif'"
   ]
  },
  {
   "cell_type": "code",
   "execution_count": 19,
   "metadata": {},
   "outputs": [],
   "source": [
    "# Get soil classes for all soil levels\n",
    "soilclasses = np.dstack((open_soilgrids_geotif(str(soilClassPath / (file_base + '0-5cm' + file_end)))[0], \\\n",
    "                         open_soilgrids_geotif(str(soilClassPath / (file_base + '5-15cm' + file_end)))[0], \\\n",
    "                         open_soilgrids_geotif(str(soilClassPath / (file_base + '15-30cm' + file_end)))[0], \\\n",
    "                         open_soilgrids_geotif(str(soilClassPath / (file_base + '30-60cm' + file_end)))[0], \\\n",
    "                         open_soilgrids_geotif(str(soilClassPath / (file_base + '60-100cm' + file_end)))[0], \\\n",
    "                         open_soilgrids_geotif(str(soilClassPath / (file_base + '100-200cm' + file_end)))[0]))"
   ]
  },
  {
   "cell_type": "code",
   "execution_count": 20,
   "metadata": {},
   "outputs": [],
   "source": [
    "# Extract mode\n",
    "mode = sc.mode(soilclasses,axis=2)[0].squeeze()"
   ]
  },
  {
   "cell_type": "code",
   "execution_count": 21,
   "metadata": {},
   "outputs": [],
   "source": [
    "# Store this in a new geotif file\n",
    "src_file = str(soilClassPath / (file_base + '0-5cm' + file_end))\n",
    "des_file = str(modeSoilClassPath / file_dest )\n",
    "write_geotif_sameDomain(src_file,des_file,mode)"
   ]
  },
  {
   "cell_type": "markdown",
   "metadata": {},
   "source": [
    "#### Code provenance\n",
    "Generates a basic log file in the domain folder and copies the control file and itself there."
   ]
  },
  {
   "cell_type": "code",
   "execution_count": 22,
   "metadata": {},
   "outputs": [],
   "source": [
    "# Set the log path and file name\n",
    "logPath = modeSoilClassPath\n",
    "log_suffix = '_mode_over_depth_log.txt'"
   ]
  },
  {
   "cell_type": "code",
   "execution_count": 23,
   "metadata": {},
   "outputs": [],
   "source": [
    "# Create a log folder\n",
    "logFolder = '_workflow_log'\n",
    "Path( logPath / logFolder ).mkdir(parents=True, exist_ok=True)"
   ]
  },
  {
   "cell_type": "code",
   "execution_count": 24,
   "metadata": {},
   "outputs": [],
   "source": [
    "# Copy this script\n",
    "thisFile = 'find_mode_soilclass.ipynb'\n",
    "copyfile(thisFile, logPath / logFolder / thisFile);"
   ]
  },
  {
   "cell_type": "code",
   "execution_count": 25,
   "metadata": {},
   "outputs": [],
   "source": [
    "# Get current date and time\n",
    "now = datetime.now()"
   ]
  },
  {
   "cell_type": "code",
   "execution_count": 26,
   "metadata": {},
   "outputs": [],
   "source": [
    "# Create a log file \n",
    "logFile = now.strftime('%Y%m%d') + log_suffix\n",
    "with open( logPath / logFolder / logFile, 'w') as file:\n",
    "    \n",
    "    lines = ['Log generated by ' + thisFile + ' on ' + now.strftime('%Y/%m/%d %H:%M:%S') + '\\n',\n",
    "             'Found mode soilclass over depth']\n",
    "    for txt in lines:\n",
    "        file.write(txt) "
   ]
  },
  {
   "cell_type": "code",
   "execution_count": null,
   "metadata": {},
   "outputs": [],
   "source": []
  }
 ],
 "metadata": {
  "kernelspec": {
   "display_name": "Python [conda env:geospatialTools]",
   "language": "python",
   "name": "conda-env-geospatialTools-py"
  },
  "language_info": {
   "codemirror_mode": {
    "name": "ipython",
    "version": 3
   },
   "file_extension": ".py",
   "mimetype": "text/x-python",
   "name": "python",
   "nbconvert_exporter": "python",
   "pygments_lexer": "ipython3",
   "version": "3.7.7"
  }
 },
 "nbformat": 4,
 "nbformat_minor": 4
}
