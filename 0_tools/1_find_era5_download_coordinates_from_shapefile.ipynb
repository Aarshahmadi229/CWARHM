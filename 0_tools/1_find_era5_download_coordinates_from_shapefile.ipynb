{
 "cells": [
  {
   "cell_type": "markdown",
   "metadata": {},
   "source": [
    "# Find ERA5 coordinates from bounding box\n",
    "Script to automatically find the bounding box for a given shapefile and round this to 0.25 degrees for use in the ERA5 downloader. Assumes that the representative area covered by a given ERA5 coordinate (i.e. a grid point) extends 0.125 degrees latitude/longitude in each cardinal direction. \n",
    "\n",
    "See: https://confluence.ecmwf.int/display/CKB/ERA5%3A+What+is+the+spatial+reference#ERA5:Whatisthespatialreference-Visualisationofregularlat/londata"
   ]
  },
  {
   "cell_type": "code",
   "execution_count": 63,
   "metadata": {},
   "outputs": [],
   "source": [
    "import math\n",
    "import geopandas as gpd\n",
    "from pathlib import Path\n",
    "import matplotlib.pyplot as plt\n",
    "from shapely.geometry import Polygon"
   ]
  },
  {
   "cell_type": "markdown",
   "metadata": {},
   "source": [
    "#### Control file handling"
   ]
  },
  {
   "cell_type": "code",
   "execution_count": 2,
   "metadata": {},
   "outputs": [],
   "source": [
    "# Easy access to control file folder\n",
    "controlFolder = Path('../0_control_files')"
   ]
  },
  {
   "cell_type": "code",
   "execution_count": 3,
   "metadata": {},
   "outputs": [],
   "source": [
    "# Store the name of the 'active' file in a variable\n",
    "controlFile = 'control_active.txt'"
   ]
  },
  {
   "cell_type": "code",
   "execution_count": 4,
   "metadata": {},
   "outputs": [],
   "source": [
    "# Function to extract a given setting from the control file\n",
    "def read_from_control( file, setting ):\n",
    "    \n",
    "    # Open 'control_active.txt' and ...\n",
    "    for line in open(file):\n",
    "        \n",
    "        # ... find the line with the requested setting\n",
    "        if setting in line:\n",
    "            break\n",
    "    \n",
    "    # Extract the setting's value\n",
    "    substring = line.split('|',1)[1]      # Remove the setting's name (split into 2 based on '|', keep only 2nd part)\n",
    "    substring = substring.split('#',1)[0] # Remove comments, does nothing if no '#' is found\n",
    "    substring = substring.strip()         # Remove leading and trailing whitespace, tabs, newlines\n",
    "    \n",
    "    # Return this value    \n",
    "    return substring"
   ]
  },
  {
   "cell_type": "code",
   "execution_count": 5,
   "metadata": {},
   "outputs": [],
   "source": [
    "# Function to specify a default path\n",
    "def make_default_path(suffix):\n",
    "    \n",
    "    # Get the root path\n",
    "    rootPath = Path( read_from_control(controlFolder/controlFile,'root_path') )\n",
    "    \n",
    "    # Get the domain folder\n",
    "    domainName = read_from_control(controlFolder/controlFile,'domain_name')\n",
    "    domainFolder = 'domain_' + domainName\n",
    "    \n",
    "    # Specify the forcing path\n",
    "    defaultPath = rootPath / domainFolder / suffix\n",
    "    \n",
    "    return defaultPath"
   ]
  },
  {
   "cell_type": "markdown",
   "metadata": {},
   "source": [
    "#### Find spatial domain as bounding box of shapefile"
   ]
  },
  {
   "cell_type": "code",
   "execution_count": 124,
   "metadata": {},
   "outputs": [],
   "source": [
    "# function to round coordinates of a bounding box to ERA5s 0.25 degree resolution\n",
    "def round_coords_to_ERA5(coords):\n",
    "    \n",
    "    '''Assumes coodinates are an array: [lon_min,lat_min,lon_max,lat_max].\n",
    "    Returns separate lat and lon vectors.'''\n",
    "    \n",
    "    # Extract values\n",
    "    lon = [coords[0],coords[2]]\n",
    "    lat = [coords[1],coords[3]]\n",
    "    \n",
    "    # Round to ERA5 0.25 degree resolution\n",
    "    rounded_lon = [math.floor(lon[0]*4)/4, math.ceil(lon[1]*4)/4]\n",
    "    rounded_lat = [math.floor(lat[0]*4)/4, math.ceil(lat[1]*4)/4]\n",
    "    \n",
    "    # Find if we are still in the representative area of a different ERA5 grid cell\n",
    "    if lat[0] > rounded_lat[0]+0.125:\n",
    "        rounded_lat[0] += 0.25\n",
    "    if lon[0] > rounded_lon[0]+0.125:\n",
    "        rounded_lon[0] += 0.25\n",
    "    if lat[1] < rounded_lat[1]-0.125:\n",
    "        rounded_lat[1] -= 0.25\n",
    "    if lon[1] < rounded_lon[1]-0.125:\n",
    "        rounded_lon[1] -= 0.25\n",
    "    \n",
    "    return rounded_lat, rounded_lon"
   ]
  },
  {
   "cell_type": "code",
   "execution_count": 14,
   "metadata": {},
   "outputs": [],
   "source": [
    "# Find name and location of catchment shapefile\n",
    "shp_path = read_from_control(controlFolder/controlFile, 'catchment_shp_path')\n",
    "shp_name = read_from_control(controlFolder/controlFile, 'catchment_shp_name')"
   ]
  },
  {
   "cell_type": "code",
   "execution_count": 15,
   "metadata": {},
   "outputs": [],
   "source": [
    "# Specify default path if needed\n",
    "if shp_path == 'default':\n",
    "    shp_path = make_default_path('shapefiles/catchment')\n",
    "else:\n",
    "    shp_path = Path(shp_path)"
   ]
  },
  {
   "cell_type": "code",
   "execution_count": 16,
   "metadata": {},
   "outputs": [],
   "source": [
    "# Open the shapefile\n",
    "shp = gpd.read_file(shp_path/shp_name)"
   ]
  },
  {
   "cell_type": "code",
   "execution_count": 17,
   "metadata": {},
   "outputs": [],
   "source": [
    "# Get the latitude and longitude of the bounding box\n",
    "bounding_box = shp.total_bounds"
   ]
  },
  {
   "cell_type": "code",
   "execution_count": 125,
   "metadata": {},
   "outputs": [],
   "source": [
    "# Find the rounded bounding box\n",
    "lat,lon = round_coords_to_ERA5(bounding_box)"
   ]
  },
  {
   "cell_type": "code",
   "execution_count": 126,
   "metadata": {},
   "outputs": [
    {
     "name": "stdout",
     "output_type": "stream",
     "text": [
      "Specify coordinates as 51.75/-116.5/51.0/-115.5 in control file.\n"
     ]
    }
   ],
   "source": [
    "# Print in ERA5 format\n",
    "print('Specify coordinates as {}/{}/{}/{} in control file.'.format(lat[1],lon[0],lat[0],lon[1]))"
   ]
  },
  {
   "cell_type": "markdown",
   "metadata": {},
   "source": [
    "#### Check"
   ]
  },
  {
   "cell_type": "code",
   "execution_count": 71,
   "metadata": {},
   "outputs": [],
   "source": [
    "# Define a bounding box\n",
    "bb_lat = [lat[0],lat[1],lat[1],lat[0],lat[0]]\n",
    "bb_lon = [lon[0],lon[0],lon[1],lon[1],lon[0]]\n",
    "\n",
    "# Make a geometry defined by the derived ERA5 grid POINT coordinates\n",
    "polygon_era5_points = Polygon(zip(bb_lon,bb_lat))\n",
    "\n",
    "# Make a second geometry that outlines the grid CELLS we assume each ERA5 point is representative of\n",
    "bb_lat = [lat[0]-0.125,lat[1]+0.125,lat[1]+0.125,lat[0]-0.125,lat[0]-0.125]\n",
    "bb_lon = [lon[0]-0.125,lon[0]-0.125,lon[1]+0.125,lon[1]+0.125,lon[0]-0.125]\n",
    "polygon_era5_cells = Polygon(zip(bb_lon,bb_lat))\n",
    "\n",
    "# Store both in temporary dataframes\n",
    "crs = {'init': 'epsg:4326'}\n",
    "shp_point = gpd.GeoDataFrame(index=[0], crs=crs, geometry=[polygon_era5_points])\n",
    "shp_cells = gpd.GeoDataFrame(index=[0], crs=crs, geometry=[polygon_era5_cells])"
   ]
  },
  {
   "cell_type": "code",
   "execution_count": 123,
   "metadata": {},
   "outputs": [
    {
     "data": {
      "image/png": "[encoded data removed]",
      "text/plain": [
       "<Figure size 720x720 with 1 Axes>"
      ]
     },
     "metadata": {
      "needs_background": "light"
     },
     "output_type": "display_data"
    }
   ],
   "source": [
    "# Make a figure\n",
    "fig = plt.figure(figsize=(10,10))\n",
    "ax = fig.gca()\n",
    "\n",
    "# data\n",
    "# re-draw the bounding box of the ERA5 data we need\n",
    "shp_point.plot(ax=ax,facecolor='None',edgecolor='r',linewidth=2);\n",
    "shp_cells.plot(ax=ax,facecolor='None',edgecolor='k',linestyle='--');\n",
    "shp.plot(ax=ax);\n",
    "\n",
    "# grid spacing indicating ERA5 grid points\n",
    "ax.xaxis.set_major_locator(plticker.MultipleLocator(base=0.25))\n",
    "ax.yaxis.set_major_locator(plticker.MultipleLocator(base=0.25))\n",
    "ax.grid(which='major', axis='both', linestyle='-')\n",
    "\n",
    "# set the legend in the title because why not\n",
    "ax.set_title('Red: bounding box of ERA5 grid points \\nBlack: representative area of ERA5 grid points (extends 0.125 degrees in either direction from grid points)');"
   ]
  },
  {
   "cell_type": "code",
   "execution_count": null,
   "metadata": {},
   "outputs": [],
   "source": []
  }
 ],
 "metadata": {
  "kernelspec": {
   "display_name": "Python [conda env:geospatialTools]",
   "language": "python",
   "name": "conda-env-geospatialTools-py"
  },
  "language_info": {
   "codemirror_mode": {
    "name": "ipython",
    "version": 3
   },
   "file_extension": ".py",
   "mimetype": "text/x-python",
   "name": "python",
   "nbconvert_exporter": "python",
   "pygments_lexer": "ipython3",
   "version": "3.7.7"
  }
 },
 "nbformat": 4,
 "nbformat_minor": 4
}
