{
 "cells": [
  {
   "cell_type": "markdown",
   "metadata": {},
   "source": [
    "# Download SOILGRIDS\n",
    "Code to download SOILGRIDS sand, silt & clay content maps, subset to the domain specified in the control file. The download workflow is:\n",
    "1. Connect to the particular service for the data product we want to download (for a list of these, see: https://www.isric.org/explore/soilgrids/faq-soilgrids#What_do_the_filename_codes_mean or https://maps.isric.org/);\n",
    "2. Specify the spatial extent and the soil depths we want;\n",
    "3. Download data\n",
    "\n",
    "## Notes on data scaling\n",
    "SOILGRIDS v2 native resolution is 250m in Homolosine projection. For consistency with the rest of the workflow, we download the data in the Marinus (WSG84) projection instead. Download resolution therefore is specified in lat/lon degrees. See: https://gis.stackexchange.com/questions/387025/how-can-i-download-soilgrids-v2-data-through-wcs-in-epsg4326-keeping-as-close"
   ]
  },
  {
   "cell_type": "code",
   "execution_count": 1,
   "metadata": {},
   "outputs": [],
   "source": [
    "# modules\n",
    "import math\n",
    "from pathlib import Path\n",
    "from shutil import copyfile\n",
    "from datetime import datetime\n",
    "from owslib.wcs import WebCoverageService # download util"
   ]
  },
  {
   "cell_type": "markdown",
   "metadata": {},
   "source": [
    "#### Control file handling"
   ]
  },
  {
   "cell_type": "code",
   "execution_count": 2,
   "metadata": {},
   "outputs": [],
   "source": [
    "# Easy access to control file folder\n",
    "controlFolder = Path('../../../0_controlFiles')"
   ]
  },
  {
   "cell_type": "code",
   "execution_count": 3,
   "metadata": {},
   "outputs": [],
   "source": [
    "# Store the name of the 'active' file in a variable\n",
    "controlFile = 'control_active.txt'"
   ]
  },
  {
   "cell_type": "code",
   "execution_count": 4,
   "metadata": {},
   "outputs": [],
   "source": [
    "# Function to extract a given setting from the control file\n",
    "def read_from_control( file, setting ):\n",
    "    \n",
    "    # Open 'control_active.txt' and ...\n",
    "    with open(file) as contents:\n",
    "        for line in contents:\n",
    "            \n",
    "            # ... find the line with the requested setting\n",
    "            if setting in line:\n",
    "                break\n",
    "    \n",
    "    # Extract the setting's value\n",
    "    substring = line.split('|',1)[1]      # Remove the setting's name (split into 2 based on '|', keep only 2nd part)\n",
    "    substring = substring.split('#',1)[0] # Remove comments, does nothing if no '#' is found\n",
    "    substring = substring.strip()         # Remove leading and trailing whitespace, tabs, newlines\n",
    "       \n",
    "    # Return this value    \n",
    "    return substring"
   ]
  },
  {
   "cell_type": "code",
   "execution_count": 5,
   "metadata": {},
   "outputs": [],
   "source": [
    "# Function to specify a default path\n",
    "def make_default_path(suffix):\n",
    "    \n",
    "    # Get the root path\n",
    "    rootPath = Path( read_from_control(controlFolder/controlFile,'root_path') )\n",
    "    \n",
    "    # Get the domain folder\n",
    "    domainName = read_from_control(controlFolder/controlFile,'domain_name')\n",
    "    domainFolder = 'domain_' + domainName\n",
    "    \n",
    "    # Specify the forcing path\n",
    "    defaultPath = rootPath / domainFolder / suffix\n",
    "    \n",
    "    return defaultPath"
   ]
  },
  {
   "cell_type": "markdown",
   "metadata": {},
   "source": [
    "#### Find where to save the data"
   ]
  },
  {
   "cell_type": "code",
   "execution_count": 6,
   "metadata": {},
   "outputs": [],
   "source": [
    "# Find the path where the raw soil maps need to go\n",
    "soilPath = read_from_control(controlFolder/controlFile,'parameter_soil_raw_path')"
   ]
  },
  {
   "cell_type": "code",
   "execution_count": 7,
   "metadata": {},
   "outputs": [],
   "source": [
    "# Specify the default paths if required \n",
    "if soilPath == 'default':\n",
    "    soilPath = make_default_path('parameters/soilclass/1_SOILGRIDS_raw_data') # outputs a Path()\n",
    "else:\n",
    "    soilPath = Path(soilPath) # make sure a user-specified path is a Path()"
   ]
  },
  {
   "cell_type": "code",
   "execution_count": 8,
   "metadata": {},
   "outputs": [],
   "source": [
    "# Make the folder if it doesn't exist\n",
    "soilPath.mkdir(parents=True, exist_ok=True)"
   ]
  },
  {
   "cell_type": "markdown",
   "metadata": {},
   "source": [
    "#### Find spatial domain and data type to download"
   ]
  },
  {
   "cell_type": "code",
   "execution_count": 9,
   "metadata": {},
   "outputs": [],
   "source": [
    "# Find which locations to download\n",
    "coordinates = read_from_control(controlFolder/controlFile,'forcing_raw_space')"
   ]
  },
  {
   "cell_type": "code",
   "execution_count": 10,
   "metadata": {},
   "outputs": [],
   "source": [
    "# Split coordinates into the format the download interface needs\n",
    "coordinates = coordinates.split('/')"
   ]
  },
  {
   "cell_type": "code",
   "execution_count": 11,
   "metadata": {},
   "outputs": [],
   "source": [
    "# Put coordinates in correct order in a tuple and convert to float\n",
    "coordinates = (float(coordinates[1]), # minimum longitude\n",
    "               float(coordinates[2]), # minimum latitude\n",
    "               float(coordinates[3]), # maximum longitude\n",
    "               float(coordinates[0])) # maximum latitude               "
   ]
  },
  {
   "cell_type": "code",
   "execution_count": 12,
   "metadata": {},
   "outputs": [],
   "source": [
    "# Find which quantile/mean/uncertainty to download\n",
    "download_value = read_from_control(controlFolder/controlFile,'parameter_soil_value')"
   ]
  },
  {
   "cell_type": "markdown",
   "metadata": {},
   "source": [
    "#### Specify download settings"
   ]
  },
  {
   "cell_type": "code",
   "execution_count": 13,
   "metadata": {},
   "outputs": [],
   "source": [
    "# Specify the maps we want\n",
    "url_base  = 'http://maps.isric.org/mapserv?map=/map/'\n",
    "url_soils = ['sand','silt','clay']\n",
    "url_end   = '.map'"
   ]
  },
  {
   "cell_type": "code",
   "execution_count": 14,
   "metadata": {},
   "outputs": [],
   "source": [
    "# CRS\n",
    "crs  = 'urn:ogc:def:crs:EPSG::4326'  # Should be supported by SOILGRIDS under wcs v1.0.0"
   ]
  },
  {
   "cell_type": "code",
   "execution_count": 15,
   "metadata": {},
   "outputs": [],
   "source": [
    "# Data format\n",
    "data_format = 'GEOTIFF_INT16' # Should be supported by SOILGRIDS under wcs v1.0.0"
   ]
  },
  {
   "cell_type": "code",
   "execution_count": 16,
   "metadata": {},
   "outputs": [],
   "source": [
    "# Spatial resolution\n",
    "if crs == 'urn:ogc:def:crs:EPSG::152160':\n",
    "    resx,resy = 250,250 # [m]; native data projection and resolution\n",
    "\n",
    "elif crs == 'urn:ogc:def:crs:EPSG::4326':\n",
    "    # see: https://gis.stackexchange.com/questions/387025/how-can-i-download-soilgrids-v2-data-through-wcs-in-epsg4326-keeping-as-close\n",
    "    a,b = 6378137,6356752 # [m]; major,minor axis of WSG84 datum\n",
    "    phi_a = (coordinates[1]+coordinates[3])/2 # middle value of domain of interest - lat\n",
    "    phi_b = (coordinates[0]+coordinates[2])/2 # middle value of domain of interest - lon\n",
    "    resx  = abs(250 / (2*math.pi*a/360) * math.cos(phi_a)) # download resolution in degrees that minimizes distortion\n",
    "    resy  = abs(250 / (2*math.pi*((a+b)/2)/360) ) # download resolution that minimizes distortion at middle latitudes"
   ]
  },
  {
   "cell_type": "markdown",
   "metadata": {},
   "source": [
    "#### Data download"
   ]
  },
  {
   "cell_type": "code",
   "execution_count": 21,
   "metadata": {},
   "outputs": [
    {
     "name": "stdout",
     "output_type": "stream",
     "text": [
      "File:   sand_0-5cm_mean \n",
      "Bbox:   (-116.75, 50.75, -115.5, 51.75) \n",
      "CRS:    urn:ogc:def:crs:EPSG::4326 \n",
      "Format: GEOTIFF_INT16 \n",
      "\n",
      "File:   sand_5-15cm_mean \n",
      "Bbox:   (-116.75, 50.75, -115.5, 51.75) \n",
      "CRS:    urn:ogc:def:crs:EPSG::4326 \n",
      "Format: GEOTIFF_INT16 \n",
      "\n",
      "File:   sand_15-30cm_mean \n",
      "Bbox:   (-116.75, 50.75, -115.5, 51.75) \n",
      "CRS:    urn:ogc:def:crs:EPSG::4326 \n",
      "Format: GEOTIFF_INT16 \n",
      "\n",
      "File:   sand_30-60cm_mean \n",
      "Bbox:   (-116.75, 50.75, -115.5, 51.75) \n",
      "CRS:    urn:ogc:def:crs:EPSG::4326 \n",
      "Format: GEOTIFF_INT16 \n",
      "\n",
      "File:   sand_60-100cm_mean \n",
      "Bbox:   (-116.75, 50.75, -115.5, 51.75) \n",
      "CRS:    urn:ogc:def:crs:EPSG::4326 \n",
      "Format: GEOTIFF_INT16 \n",
      "\n",
      "File:   sand_100-200cm_mean \n",
      "Bbox:   (-116.75, 50.75, -115.5, 51.75) \n",
      "CRS:    urn:ogc:def:crs:EPSG::4326 \n",
      "Format: GEOTIFF_INT16 \n",
      "\n",
      "File:   silt_0-5cm_mean \n",
      "Bbox:   (-116.75, 50.75, -115.5, 51.75) \n",
      "CRS:    urn:ogc:def:crs:EPSG::4326 \n",
      "Format: GEOTIFF_INT16 \n",
      "\n",
      "File:   silt_5-15cm_mean \n",
      "Bbox:   (-116.75, 50.75, -115.5, 51.75) \n",
      "CRS:    urn:ogc:def:crs:EPSG::4326 \n",
      "Format: GEOTIFF_INT16 \n",
      "\n",
      "File:   silt_15-30cm_mean \n",
      "Bbox:   (-116.75, 50.75, -115.5, 51.75) \n",
      "CRS:    urn:ogc:def:crs:EPSG::4326 \n",
      "Format: GEOTIFF_INT16 \n",
      "\n",
      "File:   silt_30-60cm_mean \n",
      "Bbox:   (-116.75, 50.75, -115.5, 51.75) \n",
      "CRS:    urn:ogc:def:crs:EPSG::4326 \n",
      "Format: GEOTIFF_INT16 \n",
      "\n",
      "File:   silt_60-100cm_mean \n",
      "Bbox:   (-116.75, 50.75, -115.5, 51.75) \n",
      "CRS:    urn:ogc:def:crs:EPSG::4326 \n",
      "Format: GEOTIFF_INT16 \n",
      "\n",
      "File:   silt_100-200cm_mean \n",
      "Bbox:   (-116.75, 50.75, -115.5, 51.75) \n",
      "CRS:    urn:ogc:def:crs:EPSG::4326 \n",
      "Format: GEOTIFF_INT16 \n",
      "\n",
      "File:   clay_0-5cm_mean \n",
      "Bbox:   (-116.75, 50.75, -115.5, 51.75) \n",
      "CRS:    urn:ogc:def:crs:EPSG::4326 \n",
      "Format: GEOTIFF_INT16 \n",
      "\n",
      "File:   clay_5-15cm_mean \n",
      "Bbox:   (-116.75, 50.75, -115.5, 51.75) \n",
      "CRS:    urn:ogc:def:crs:EPSG::4326 \n",
      "Format: GEOTIFF_INT16 \n",
      "\n",
      "File:   clay_15-30cm_mean \n",
      "Bbox:   (-116.75, 50.75, -115.5, 51.75) \n",
      "CRS:    urn:ogc:def:crs:EPSG::4326 \n",
      "Format: GEOTIFF_INT16 \n",
      "\n",
      "File:   clay_30-60cm_mean \n",
      "Bbox:   (-116.75, 50.75, -115.5, 51.75) \n",
      "CRS:    urn:ogc:def:crs:EPSG::4326 \n",
      "Format: GEOTIFF_INT16 \n",
      "\n",
      "File:   clay_60-100cm_mean \n",
      "Bbox:   (-116.75, 50.75, -115.5, 51.75) \n",
      "CRS:    urn:ogc:def:crs:EPSG::4326 \n",
      "Format: GEOTIFF_INT16 \n",
      "\n",
      "File:   clay_100-200cm_mean \n",
      "Bbox:   (-116.75, 50.75, -115.5, 51.75) \n",
      "CRS:    urn:ogc:def:crs:EPSG::4326 \n",
      "Format: GEOTIFF_INT16 \n",
      "\n"
     ]
    }
   ],
   "source": [
    "# Loop over soil types\n",
    "for soil in url_soils:\n",
    "    \n",
    "    # Construct the url\n",
    "    url = url_base + soil + url_end\n",
    "    \n",
    "    # Connect through the appropriate web server\n",
    "    # Note, use v1.0.0 instead of v2.0.1 because specification of bounding box in regular lat/lon is easier\n",
    "    wcs = WebCoverageService(url, version='1.0.0')\n",
    "    \n",
    "    # Find the data names that contain the value we want; e.g. 'mean'\n",
    "    identifiers = []\n",
    "    for idf in list(wcs.contents):\n",
    "        if download_value in idf:\n",
    "            identifiers.append(idf)\n",
    "            \n",
    "    # Loop over the files (i.e. different depths)\n",
    "    for current_id in identifiers:\n",
    "        \n",
    "        # Get data information\n",
    "        data = wcs.contents[current_id]\n",
    "        \n",
    "        # Check that it is available in the crs we want\n",
    "        if not crs in str( data.supportedCRS ):  # converted CRS objects to str for checking\n",
    "            raise Exception ('Requested CRS {} not supported.'.format(crs))\n",
    "            \n",
    "        # Check that data is available in our format\n",
    "        if not data_format in data.supportedFormats:\n",
    "            raise Exception ('Requested format {} not supported.'.format(frmt))\n",
    "            \n",
    "        # Check that the bounding box is within available bounds\n",
    "        if 'EPSG::4326' in crs: # This is necessary because this code specifically gets the EPSG:4326 bounding box\n",
    "            coverage = data.boundingBoxWGS84 # available    \n",
    "            bounding_box = (\n",
    "                max(coverage[0],coordinates[0]),\n",
    "                max(coverage[1],coordinates[1]),\n",
    "                min(coverage[2],coordinates[2]),\n",
    "                min(coverage[3],coordinates[3])) # limit the request to what is available; does nothing if request is within available bounds\n",
    "            \n",
    "        # Print\n",
    "        print('File:   {} \\nBbox:   {} \\nCRS:    {} \\nFormat: {} \\n'.format(current_id,bounding_box,crs,data_format))\n",
    "        \n",
    "        # Get the response\n",
    "        response = wcs.getCoverage(identifier = current_id,\n",
    "                                   crs = crs,\n",
    "                                   bbox = bounding_box,\n",
    "                                   resx = resx, resy = resy,\n",
    "                                   format = data_format)\n",
    "        \n",
    "        # Write the response to file\n",
    "        with open( soilPath / (current_id + '.tif'), 'wb') as file:\n",
    "            file.write(response.read())"
   ]
  },
  {
   "cell_type": "markdown",
   "metadata": {},
   "source": [
    "#### Code provenance\n",
    "Generates a basic log file in the domain folder and copies the control file and itself there."
   ]
  },
  {
   "cell_type": "code",
   "execution_count": 22,
   "metadata": {},
   "outputs": [],
   "source": [
    "# Set the log path and file name\n",
    "logPath = soilPath\n",
    "log_suffix = '_soilgrids_download_log.txt'"
   ]
  },
  {
   "cell_type": "code",
   "execution_count": 23,
   "metadata": {},
   "outputs": [],
   "source": [
    "# Create a log folder\n",
    "logFolder = '_workflow_log'\n",
    "Path( logPath / logFolder ).mkdir(parents=True, exist_ok=True)"
   ]
  },
  {
   "cell_type": "code",
   "execution_count": 24,
   "metadata": {},
   "outputs": [],
   "source": [
    "# Copy this script\n",
    "thisFile = 'download_soilgrids_v2.ipynb'\n",
    "copyfile(thisFile, logPath / logFolder / thisFile);"
   ]
  },
  {
   "cell_type": "code",
   "execution_count": 25,
   "metadata": {},
   "outputs": [],
   "source": [
    "# Get current date and time\n",
    "now = datetime.now()"
   ]
  },
  {
   "cell_type": "code",
   "execution_count": 26,
   "metadata": {},
   "outputs": [],
   "source": [
    "# Create a log file \n",
    "logFile = now.strftime('%Y%m%d') + log_suffix\n",
    "with open( logPath / logFolder / logFile, 'w') as file:\n",
    "    \n",
    "    lines = ['Log generated by ' + thisFile + ' on ' + now.strftime('%Y/%m/%d %H:%M:%S') + '\\n',\n",
    "             'Downloaded SOILGRIDS v2 data for space (lat_max, lon_min, lat_min, lon_max) [{}].'.format(coordinates)]\n",
    "    for txt in lines:\n",
    "        file.write(txt)    "
   ]
  },
  {
   "cell_type": "code",
   "execution_count": null,
   "metadata": {},
   "outputs": [],
   "source": []
  }
 ],
 "metadata": {
  "kernelspec": {
   "display_name": "Python [conda env:geospatialTools]",
   "language": "python",
   "name": "conda-env-geospatialTools-py"
  },
  "language_info": {
   "codemirror_mode": {
    "name": "ipython",
    "version": 3
   },
   "file_extension": ".py",
   "mimetype": "text/x-python",
   "name": "python",
   "nbconvert_exporter": "python",
   "pygments_lexer": "ipython3",
   "version": "3.7.7"
  }
 },
 "nbformat": 4,
 "nbformat_minor": 4
}
