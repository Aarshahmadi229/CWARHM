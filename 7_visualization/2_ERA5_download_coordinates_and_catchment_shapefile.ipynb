{
 "cells": [
  {
   "cell_type": "markdown",
   "metadata": {},
   "source": [
    "# Check ERA5 download domain code\n",
    "ERA5 data is available at discrete grid points. The workflow assumes that the representative area covered by a given ERA5 coordinate (i.e. a grid point) extends 0.125 degrees latitude/longitude in each cardinal direction. The ERA5 download scripts therefore modify the spatial coordinates specify in the control file to account for the representative area of each ERA5 grid point. This script visualizes the ERA5 download coordinates, the area they are representative of and the actual extent of the catchment shapefile.\n",
    "\n",
    "See: https://confluence.ecmwf.int/display/CKB/ERA5%3A+What+is+the+spatial+reference#ERA5:Whatisthespatialreference-Visualisationofregularlat/londata"
   ]
  },
  {
   "cell_type": "code",
   "execution_count": 19,
   "metadata": {},
   "outputs": [],
   "source": [
    "import math\n",
    "import geopandas as gpd\n",
    "from pathlib import Path\n",
    "import matplotlib.pyplot as plt\n",
    "import matplotlib.ticker as plticker\n",
    "from shapely.geometry import Polygon"
   ]
  },
  {
   "cell_type": "markdown",
   "metadata": {},
   "source": [
    "#### Control file handling"
   ]
  },
  {
   "cell_type": "code",
   "execution_count": 2,
   "metadata": {},
   "outputs": [],
   "source": [
    "# Easy access to control file folder\n",
    "controlFolder = Path('../0_control_files')"
   ]
  },
  {
   "cell_type": "code",
   "execution_count": 3,
   "metadata": {},
   "outputs": [],
   "source": [
    "# Store the name of the 'active' file in a variable\n",
    "controlFile = 'control_active.txt'"
   ]
  },
  {
   "cell_type": "code",
   "execution_count": 4,
   "metadata": {},
   "outputs": [],
   "source": [
    "# Function to extract a given setting from the control file\n",
    "def read_from_control( file, setting ):\n",
    "    \n",
    "    # Open 'control_active.txt' and ...\n",
    "    for line in open(file):\n",
    "        \n",
    "        # ... find the line with the requested setting\n",
    "        if setting in line and not line.startswith('#'):\n",
    "            break\n",
    "    \n",
    "    # Extract the setting's value\n",
    "    substring = line.split('|',1)[1]      # Remove the setting's name (split into 2 based on '|', keep only 2nd part)\n",
    "    substring = substring.split('#',1)[0] # Remove comments, does nothing if no '#' is found\n",
    "    substring = substring.strip()         # Remove leading and trailing whitespace, tabs, newlines\n",
    "    \n",
    "    # Return this value    \n",
    "    return substring"
   ]
  },
  {
   "cell_type": "code",
   "execution_count": 5,
   "metadata": {},
   "outputs": [],
   "source": [
    "# Function to specify a default path\n",
    "def make_default_path(suffix):\n",
    "    \n",
    "    # Get the root path\n",
    "    rootPath = Path( read_from_control(controlFolder/controlFile,'root_path') )\n",
    "    \n",
    "    # Get the domain folder\n",
    "    domainName = read_from_control(controlFolder/controlFile,'domain_name')\n",
    "    domainFolder = 'domain_' + domainName\n",
    "    \n",
    "    # Specify the forcing path\n",
    "    defaultPath = rootPath / domainFolder / suffix\n",
    "    \n",
    "    return defaultPath"
   ]
  },
  {
   "cell_type": "markdown",
   "metadata": {},
   "source": [
    "#### Define where to save the figure"
   ]
  },
  {
   "cell_type": "code",
   "execution_count": 22,
   "metadata": {},
   "outputs": [],
   "source": [
    "# Path and filename\n",
    "fig_path = read_from_control(controlFolder/controlFile,'visualization_folder')\n",
    "fig_name = 'era5_download_coordinates_check.png'\n",
    "\n",
    "# Specify default path if needed\n",
    "if fig_path == 'default':\n",
    "    fig_path = make_default_path('visualization') # outputs a Path()\n",
    "else:\n",
    "    fig_path = Path(fig_path) # make sure a user-specified path is a Path()\n",
    "    \n",
    "# Make the folder if it doesn't exist\n",
    "fig_path.mkdir(parents=True, exist_ok=True)"
   ]
  },
  {
   "cell_type": "markdown",
   "metadata": {},
   "source": [
    "#### Get the catchment shapefile"
   ]
  },
  {
   "cell_type": "code",
   "execution_count": 6,
   "metadata": {},
   "outputs": [],
   "source": [
    "# Find name and location of catchment shapefile\n",
    "shp_path = read_from_control(controlFolder/controlFile, 'catchment_shp_path')\n",
    "shp_name = read_from_control(controlFolder/controlFile, 'catchment_shp_name')"
   ]
  },
  {
   "cell_type": "code",
   "execution_count": 7,
   "metadata": {},
   "outputs": [],
   "source": [
    "# Specify default path if needed\n",
    "if shp_path == 'default':\n",
    "    shp_path = make_default_path('shapefiles/catchment')\n",
    "else:\n",
    "    shp_path = Path(shp_path)"
   ]
  },
  {
   "cell_type": "code",
   "execution_count": 8,
   "metadata": {},
   "outputs": [],
   "source": [
    "# Open the shapefile\n",
    "shp = gpd.read_file(shp_path/shp_name)"
   ]
  },
  {
   "cell_type": "markdown",
   "metadata": {},
   "source": [
    "#### Reproduce the ERA5 download code"
   ]
  },
  {
   "cell_type": "code",
   "execution_count": 9,
   "metadata": {},
   "outputs": [],
   "source": [
    "# function to round coordinates of a bounding box to ERA5s 0.25 degree resolution\n",
    "def round_coords_to_ERA5(coords):\n",
    "    \n",
    "    '''Assumes coodinates are an array: [lon_min,lat_min,lon_max,lat_max].\n",
    "    Returns separate lat and lon vectors.'''\n",
    "    \n",
    "    # Extract values\n",
    "    lon = [coords[1],coords[3]]\n",
    "    lat = [coords[2],coords[0]]\n",
    "    \n",
    "    # Round to ERA5 0.25 degree resolution\n",
    "    rounded_lon = [math.floor(lon[0]*4)/4, math.ceil(lon[1]*4)/4]\n",
    "    rounded_lat = [math.floor(lat[0]*4)/4, math.ceil(lat[1]*4)/4]\n",
    "    \n",
    "    # Find if we are still in the representative area of a different ERA5 grid cell\n",
    "    if lat[0] > rounded_lat[0]+0.125:\n",
    "        rounded_lat[0] += 0.25\n",
    "    if lon[0] > rounded_lon[0]+0.125:\n",
    "        rounded_lon[0] += 0.25\n",
    "    if lat[1] < rounded_lat[1]-0.125:\n",
    "        rounded_lat[1] -= 0.25\n",
    "    if lon[1] < rounded_lon[1]-0.125:\n",
    "        rounded_lon[1] -= 0.25\n",
    "    \n",
    "    # Make a download string\n",
    "    dl_string = '{}/{}/{}/{}'.format(rounded_lat[1],rounded_lon[0],rounded_lat[0],rounded_lon[1])\n",
    "    \n",
    "    return dl_string, rounded_lat, rounded_lon"
   ]
  },
  {
   "cell_type": "code",
   "execution_count": 10,
   "metadata": {},
   "outputs": [],
   "source": [
    "# Find the spatial extent the data needs to cover\n",
    "bounding_box = read_from_control(controlFolder/controlFile,'forcing_raw_space') "
   ]
  },
  {
   "cell_type": "code",
   "execution_count": 11,
   "metadata": {},
   "outputs": [],
   "source": [
    "# Convert string to array\n",
    "bounding_box = bounding_box.split('/')\n",
    "bounding_box = [float(value) for value in bounding_box]"
   ]
  },
  {
   "cell_type": "code",
   "execution_count": 12,
   "metadata": {},
   "outputs": [],
   "source": [
    "# Find the rounded bounding box\n",
    "coordinates, lat, lon = round_coords_to_ERA5(bounding_box)"
   ]
  },
  {
   "cell_type": "code",
   "execution_count": 14,
   "metadata": {},
   "outputs": [
    {
     "name": "stdout",
     "output_type": "stream",
     "text": [
      "ERA5 coordinates defined as [51.75/-116.5/51.0/-115.5].\n"
     ]
    }
   ],
   "source": [
    "# Print in ERA5 format\n",
    "print('ERA5 coordinates defined as [{}].'.format(coordinates))"
   ]
  },
  {
   "cell_type": "markdown",
   "metadata": {},
   "source": [
    "#### Visualize"
   ]
  },
  {
   "cell_type": "code",
   "execution_count": 17,
   "metadata": {},
   "outputs": [],
   "source": [
    "# Define a bounding box\n",
    "bb_lat = [lat[0],lat[1],lat[1],lat[0],lat[0]]\n",
    "bb_lon = [lon[0],lon[0],lon[1],lon[1],lon[0]]\n",
    "\n",
    "# Make a geometry defined by the derived ERA5 grid POINT coordinates\n",
    "polygon_era5_points = Polygon(zip(bb_lon,bb_lat))\n",
    "\n",
    "# Make a second geometry that outlines the grid CELLS we assume each ERA5 point is representative of\n",
    "bb_lat = [lat[0]-0.125,lat[1]+0.125,lat[1]+0.125,lat[0]-0.125,lat[0]-0.125]\n",
    "bb_lon = [lon[0]-0.125,lon[0]-0.125,lon[1]+0.125,lon[1]+0.125,lon[0]-0.125]\n",
    "polygon_era5_cells = Polygon(zip(bb_lon,bb_lat))\n",
    "\n",
    "# Store both in temporary dataframes\n",
    "crs = {'init': 'epsg:4326'}\n",
    "shp_point = gpd.GeoDataFrame(index=[0], crs=crs, geometry=[polygon_era5_points])\n",
    "shp_cells = gpd.GeoDataFrame(index=[0], crs=crs, geometry=[polygon_era5_cells])"
   ]
  },
  {
   "cell_type": "code",
   "execution_count": 23,
   "metadata": {},
   "outputs": [
    {
     "data": {
      "image/png": "[encoded data removed]",
      "text/plain": [
       "<Figure size 720x720 with 1 Axes>"
      ]
     },
     "metadata": {
      "needs_background": "light"
     },
     "output_type": "display_data"
    }
   ],
   "source": [
    "# Make a figure\n",
    "fig = plt.figure(figsize=(10,10))\n",
    "ax = fig.gca()\n",
    "\n",
    "# data\n",
    "# re-draw the bounding box of the ERA5 data we need\n",
    "shp_point.plot(ax=ax,facecolor='None',edgecolor='r',linewidth=2);\n",
    "shp_cells.plot(ax=ax,facecolor='None',edgecolor='k',linestyle='--');\n",
    "shp.plot(ax=ax);\n",
    "\n",
    "# grid spacing indicating ERA5 grid points\n",
    "ax.xaxis.set_major_locator(plticker.MultipleLocator(base=0.25))\n",
    "ax.yaxis.set_major_locator(plticker.MultipleLocator(base=0.25))\n",
    "ax.grid(which='major', axis='both', linestyle='-')\n",
    "ax.axis('equal')\n",
    "\n",
    "# set the legend in the title because why not\n",
    "ax.set_title('Red: bounding box of ERA5 grid points \\nBlack: representative area of ERA5 grid points (extends 0.125 degrees in either direction from grid points)');\n",
    "\n",
    "# save\n",
    "plt.savefig(fig_path/fig_name, bbox_inches='tight')"
   ]
  },
  {
   "cell_type": "code",
   "execution_count": null,
   "metadata": {},
   "outputs": [],
   "source": []
  }
 ],
 "metadata": {
  "kernelspec": {
   "display_name": "summa-env",
   "language": "python",
   "name": "summa-env"
  },
  "language_info": {
   "codemirror_mode": {
    "name": "ipython",
    "version": 3
   },
   "file_extension": ".py",
   "mimetype": "text/x-python",
   "name": "python",
   "nbconvert_exporter": "python",
   "pygments_lexer": "ipython3",
   "version": "3.8.8"
  }
 },
 "nbformat": 4,
 "nbformat_minor": 4
}
